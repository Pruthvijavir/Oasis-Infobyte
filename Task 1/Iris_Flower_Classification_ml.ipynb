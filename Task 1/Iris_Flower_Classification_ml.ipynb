{
 "cells": [
  {
   "cell_type": "markdown",
   "id": "5472e0a4",
   "metadata": {},
   "source": [
    "# Task 1"
   ]
  },
  {
   "cell_type": "code",
   "execution_count": null,
   "id": "b8ce24c0",
   "metadata": {},
   "outputs": [],
   "source": []
  },
  {
   "cell_type": "markdown",
   "id": "3a7433cf",
   "metadata": {},
   "source": [
    "# Project Name - Iris Flower Classification"
   ]
  },
  {
   "cell_type": "code",
   "execution_count": null,
   "id": "72ce5d67",
   "metadata": {},
   "outputs": [],
   "source": []
  },
  {
   "cell_type": "markdown",
   "id": "1aded556",
   "metadata": {},
   "source": [
    "#### Project Type - Classification\n",
    "#### Industry - Oasis Infobyte\n",
    "#### Contribution - Individual\n",
    "#### Member Name - Pruthvi Javir"
   ]
  },
  {
   "cell_type": "code",
   "execution_count": null,
   "id": "f9ce5eb6",
   "metadata": {},
   "outputs": [],
   "source": []
  },
  {
   "cell_type": "markdown",
   "id": "7ae1e0b4",
   "metadata": {},
   "source": [
    "### Project Summary  -"
   ]
  },
  {
   "cell_type": "code",
   "execution_count": null,
   "id": "7a5939c0",
   "metadata": {},
   "outputs": [],
   "source": []
  },
  {
   "cell_type": "markdown",
   "id": "48d92297",
   "metadata": {},
   "source": [
    "### Product Description : "
   ]
  },
  {
   "cell_type": "markdown",
   "id": "47faea0f",
   "metadata": {},
   "source": [
    "- The Iris Flower Classification project focuses on developing a machine learning model to classify iris flowers into their respective species based on specific measurements.\n",
    "\n",
    "- Iris flowers are classified into three species: setosa, versicolor, and virginica, each of which exhibits distinct characteristics in terms of measurements."
   ]
  },
  {
   "cell_type": "code",
   "execution_count": null,
   "id": "4281e038",
   "metadata": {},
   "outputs": [],
   "source": []
  },
  {
   "cell_type": "markdown",
   "id": "f8e0b02e",
   "metadata": {},
   "source": [
    "### Objective:"
   ]
  },
  {
   "cell_type": "markdown",
   "id": "8772c5f6",
   "metadata": {},
   "source": [
    "- The primary goal of this project is to leverage machine learning techniques to build a classification model that can accurately identify the species of iris flowers based on their measurements. \n",
    "\n",
    "- The model aims to automate the classification process, offering a practical solution for identifying iris species."
   ]
  },
  {
   "cell_type": "code",
   "execution_count": null,
   "id": "84a8e303",
   "metadata": {},
   "outputs": [],
   "source": []
  },
  {
   "cell_type": "markdown",
   "id": "a4efc7e3",
   "metadata": {},
   "source": [
    "### Project Details : "
   ]
  },
  {
   "cell_type": "markdown",
   "id": "d12bd69b",
   "metadata": {},
   "source": [
    "- Iris flowers have three species: setosa, versicolor, and virginica.\n",
    "- These species can be distinguished based on measurements such as sepal length, sepal width, petal length, and petal width.\n",
    "- The project involves training a machine learning model on a dataset that contains iris flower measurements associated with their respective species.\n",
    "- The trained model will classify iris flowers into one of the three species based on their measurements."
   ]
  },
  {
   "cell_type": "code",
   "execution_count": null,
   "id": "b14f4528",
   "metadata": {},
   "outputs": [],
   "source": []
  },
  {
   "cell_type": "markdown",
   "id": "ddfd0127",
   "metadata": {},
   "source": [
    "### GitHub Link :"
   ]
  },
  {
   "cell_type": "markdown",
   "id": "fa165236",
   "metadata": {},
   "source": [
    "GitHub Link - https://github.com/Pruthvijavir/Oasis-Infobyte"
   ]
  },
  {
   "cell_type": "code",
   "execution_count": null,
   "id": "03e1472e",
   "metadata": {},
   "outputs": [],
   "source": []
  },
  {
   "cell_type": "markdown",
   "id": "7ca62d66",
   "metadata": {},
   "source": [
    "## 1. Problem Statement"
   ]
  },
  {
   "cell_type": "markdown",
   "id": "ce8043b0",
   "metadata": {},
   "source": [
    "- The iris flower, scientifically known as Iris, is a distinctive genus of flowering plants. Within this genus, there are three primary species: Iris setosa, Iris versicolor, and Iris virginica.\n",
    "\n",
    "- These species exhibit variations in their physical characteristics, particularly in the measurements of their sepal length, sepal width, petal length, and petal width."
   ]
  },
  {
   "cell_type": "code",
   "execution_count": null,
   "id": "c69725f3",
   "metadata": {},
   "outputs": [],
   "source": []
  },
  {
   "cell_type": "markdown",
   "id": "e81f244d",
   "metadata": {},
   "source": [
    "### Lets Begin --> Import Libraries"
   ]
  },
  {
   "cell_type": "code",
   "execution_count": null,
   "id": "a3ba020e",
   "metadata": {},
   "outputs": [],
   "source": []
  },
  {
   "cell_type": "markdown",
   "id": "b6b6c8a1",
   "metadata": {},
   "source": [
    "Importing Numpy & Pandas for data processing & data wrangling"
   ]
  },
  {
   "cell_type": "code",
   "execution_count": 1,
   "id": "89f7de10",
   "metadata": {},
   "outputs": [],
   "source": [
    "import numpy as np\n",
    "import pandas as pd"
   ]
  },
  {
   "cell_type": "code",
   "execution_count": null,
   "id": "df4394c0",
   "metadata": {},
   "outputs": [],
   "source": []
  },
  {
   "cell_type": "markdown",
   "id": "aa6428cc",
   "metadata": {},
   "source": [
    "Importing  tools for visualization"
   ]
  },
  {
   "cell_type": "code",
   "execution_count": 2,
   "id": "72981b6d",
   "metadata": {},
   "outputs": [],
   "source": [
    "import matplotlib.pyplot as plt\n",
    "import seaborn as sns"
   ]
  },
  {
   "cell_type": "code",
   "execution_count": null,
   "id": "7fb49c10",
   "metadata": {},
   "outputs": [],
   "source": []
  },
  {
   "cell_type": "markdown",
   "id": "97c46dd0",
   "metadata": {},
   "source": [
    "Import evaluation metric libraries"
   ]
  },
  {
   "cell_type": "code",
   "execution_count": 3,
   "id": "a9ab9789",
   "metadata": {},
   "outputs": [],
   "source": [
    "from sklearn.metrics import confusion_matrix, accuracy_score, precision_score, recall_score, f1_score, classification_report"
   ]
  },
  {
   "cell_type": "code",
   "execution_count": null,
   "id": "60759715",
   "metadata": {},
   "outputs": [],
   "source": []
  },
  {
   "cell_type": "markdown",
   "id": "6d1ef836",
   "metadata": {},
   "source": [
    "Library used for data preprocessing"
   ]
  },
  {
   "cell_type": "code",
   "execution_count": 4,
   "id": "1035707d",
   "metadata": {},
   "outputs": [],
   "source": [
    "from sklearn.preprocessing import LabelEncoder"
   ]
  },
  {
   "cell_type": "code",
   "execution_count": null,
   "id": "ab07d370",
   "metadata": {},
   "outputs": [],
   "source": []
  },
  {
   "cell_type": "markdown",
   "id": "4d2f84a6",
   "metadata": {},
   "source": [
    "Import model selection libraries"
   ]
  },
  {
   "cell_type": "code",
   "execution_count": 5,
   "id": "09c0f665",
   "metadata": {},
   "outputs": [],
   "source": [
    "from sklearn.model_selection import train_test_split, GridSearchCV, RandomizedSearchCV, RepeatedStratifiedKFold"
   ]
  },
  {
   "cell_type": "code",
   "execution_count": null,
   "id": "ded23928",
   "metadata": {},
   "outputs": [],
   "source": []
  },
  {
   "cell_type": "markdown",
   "id": "bb65318b",
   "metadata": {},
   "source": [
    "Library used for ML Model implementation"
   ]
  },
  {
   "cell_type": "code",
   "execution_count": 6,
   "id": "2d2a9122",
   "metadata": {},
   "outputs": [],
   "source": [
    "from sklearn.linear_model import LogisticRegression\n",
    "from sklearn.tree import DecisionTreeClassifier\n",
    "from sklearn.ensemble import RandomForestClassifier\n",
    "from sklearn.svm import SVC\n",
    "from sklearn.neural_network import MLPClassifier\n",
    "from sklearn.naive_bayes import GaussianNB\n",
    "import xgboost as xgb"
   ]
  },
  {
   "cell_type": "code",
   "execution_count": null,
   "id": "37d9e929",
   "metadata": {},
   "outputs": [],
   "source": []
  },
  {
   "cell_type": "markdown",
   "id": "efd2c834",
   "metadata": {},
   "source": [
    "Library used for ignore warnings"
   ]
  },
  {
   "cell_type": "code",
   "execution_count": 7,
   "id": "5e03e328",
   "metadata": {},
   "outputs": [],
   "source": [
    "import warnings\n",
    "warnings.filterwarnings('ignore')\n",
    "%matplotlib inline"
   ]
  },
  {
   "cell_type": "code",
   "execution_count": null,
   "id": "f6035f3d",
   "metadata": {},
   "outputs": [],
   "source": []
  },
  {
   "cell_type": "markdown",
   "id": "de466c18",
   "metadata": {},
   "source": [
    "### Dataset Loading"
   ]
  },
  {
   "cell_type": "code",
   "execution_count": 8,
   "id": "a7ab7141",
   "metadata": {},
   "outputs": [],
   "source": [
    "df = pd.read_csv(\"iris.csv\")"
   ]
  },
  {
   "cell_type": "code",
   "execution_count": 9,
   "id": "3e160b67",
   "metadata": {},
   "outputs": [
    {
     "data": {
      "text/html": [
       "<div>\n",
       "<style scoped>\n",
       "    .dataframe tbody tr th:only-of-type {\n",
       "        vertical-align: middle;\n",
       "    }\n",
       "\n",
       "    .dataframe tbody tr th {\n",
       "        vertical-align: top;\n",
       "    }\n",
       "\n",
       "    .dataframe thead th {\n",
       "        text-align: right;\n",
       "    }\n",
       "</style>\n",
       "<table border=\"1\" class=\"dataframe\">\n",
       "  <thead>\n",
       "    <tr style=\"text-align: right;\">\n",
       "      <th></th>\n",
       "      <th>Id</th>\n",
       "      <th>SepalLengthCm</th>\n",
       "      <th>SepalWidthCm</th>\n",
       "      <th>PetalLengthCm</th>\n",
       "      <th>PetalWidthCm</th>\n",
       "      <th>Species</th>\n",
       "    </tr>\n",
       "  </thead>\n",
       "  <tbody>\n",
       "    <tr>\n",
       "      <th>0</th>\n",
       "      <td>1</td>\n",
       "      <td>5.1</td>\n",
       "      <td>3.5</td>\n",
       "      <td>1.4</td>\n",
       "      <td>0.2</td>\n",
       "      <td>Iris-setosa</td>\n",
       "    </tr>\n",
       "    <tr>\n",
       "      <th>1</th>\n",
       "      <td>2</td>\n",
       "      <td>4.9</td>\n",
       "      <td>3.0</td>\n",
       "      <td>1.4</td>\n",
       "      <td>0.2</td>\n",
       "      <td>Iris-setosa</td>\n",
       "    </tr>\n",
       "    <tr>\n",
       "      <th>2</th>\n",
       "      <td>3</td>\n",
       "      <td>4.7</td>\n",
       "      <td>3.2</td>\n",
       "      <td>1.3</td>\n",
       "      <td>0.2</td>\n",
       "      <td>Iris-setosa</td>\n",
       "    </tr>\n",
       "    <tr>\n",
       "      <th>3</th>\n",
       "      <td>4</td>\n",
       "      <td>4.6</td>\n",
       "      <td>3.1</td>\n",
       "      <td>1.5</td>\n",
       "      <td>0.2</td>\n",
       "      <td>Iris-setosa</td>\n",
       "    </tr>\n",
       "    <tr>\n",
       "      <th>4</th>\n",
       "      <td>5</td>\n",
       "      <td>5.0</td>\n",
       "      <td>3.6</td>\n",
       "      <td>1.4</td>\n",
       "      <td>0.2</td>\n",
       "      <td>Iris-setosa</td>\n",
       "    </tr>\n",
       "  </tbody>\n",
       "</table>\n",
       "</div>"
      ],
      "text/plain": [
       "   Id  SepalLengthCm  SepalWidthCm  PetalLengthCm  PetalWidthCm      Species\n",
       "0   1            5.1           3.5            1.4           0.2  Iris-setosa\n",
       "1   2            4.9           3.0            1.4           0.2  Iris-setosa\n",
       "2   3            4.7           3.2            1.3           0.2  Iris-setosa\n",
       "3   4            4.6           3.1            1.5           0.2  Iris-setosa\n",
       "4   5            5.0           3.6            1.4           0.2  Iris-setosa"
      ]
     },
     "execution_count": 9,
     "metadata": {},
     "output_type": "execute_result"
    }
   ],
   "source": [
    "df.head()"
   ]
  },
  {
   "cell_type": "code",
   "execution_count": null,
   "id": "254d95bc",
   "metadata": {},
   "outputs": [],
   "source": []
  },
  {
   "cell_type": "markdown",
   "id": "61fc79d0",
   "metadata": {},
   "source": [
    "### Dataset Rows & Columns count"
   ]
  },
  {
   "cell_type": "code",
   "execution_count": 10,
   "id": "269e649e",
   "metadata": {},
   "outputs": [
    {
     "data": {
      "text/plain": [
       "(150, 6)"
      ]
     },
     "execution_count": 10,
     "metadata": {},
     "output_type": "execute_result"
    }
   ],
   "source": [
    "df.shape"
   ]
  },
  {
   "cell_type": "code",
   "execution_count": null,
   "id": "e9d2f67e",
   "metadata": {},
   "outputs": [],
   "source": []
  },
  {
   "cell_type": "markdown",
   "id": "b54e3845",
   "metadata": {},
   "source": [
    "### Dataset Information"
   ]
  },
  {
   "cell_type": "code",
   "execution_count": 11,
   "id": "e4cc871b",
   "metadata": {},
   "outputs": [
    {
     "name": "stdout",
     "output_type": "stream",
     "text": [
      "<class 'pandas.core.frame.DataFrame'>\n",
      "RangeIndex: 150 entries, 0 to 149\n",
      "Data columns (total 6 columns):\n",
      " #   Column         Non-Null Count  Dtype  \n",
      "---  ------         --------------  -----  \n",
      " 0   Id             150 non-null    int64  \n",
      " 1   SepalLengthCm  150 non-null    float64\n",
      " 2   SepalWidthCm   150 non-null    float64\n",
      " 3   PetalLengthCm  150 non-null    float64\n",
      " 4   PetalWidthCm   150 non-null    float64\n",
      " 5   Species        150 non-null    object \n",
      "dtypes: float64(4), int64(1), object(1)\n",
      "memory usage: 7.2+ KB\n"
     ]
    }
   ],
   "source": [
    "df.info()"
   ]
  },
  {
   "cell_type": "code",
   "execution_count": null,
   "id": "42695ed9",
   "metadata": {},
   "outputs": [],
   "source": []
  },
  {
   "cell_type": "markdown",
   "id": "328d8805",
   "metadata": {},
   "source": [
    "### Duplicate Values"
   ]
  },
  {
   "cell_type": "code",
   "execution_count": 12,
   "id": "cc474174",
   "metadata": {},
   "outputs": [
    {
     "name": "stdout",
     "output_type": "stream",
     "text": [
      "number of duplicated rows are 0\n"
     ]
    }
   ],
   "source": [
    "dup = df.duplicated().sum()\n",
    "print(f'number of duplicated rows are {dup}')"
   ]
  },
  {
   "cell_type": "code",
   "execution_count": null,
   "id": "84cb4b85",
   "metadata": {},
   "outputs": [],
   "source": []
  },
  {
   "cell_type": "markdown",
   "id": "8530ef90",
   "metadata": {},
   "source": [
    "### Missing Values/Null Values"
   ]
  },
  {
   "cell_type": "code",
   "execution_count": 13,
   "id": "5ba5111b",
   "metadata": {},
   "outputs": [
    {
     "data": {
      "text/plain": [
       "Id               0\n",
       "SepalLengthCm    0\n",
       "SepalWidthCm     0\n",
       "PetalLengthCm    0\n",
       "PetalWidthCm     0\n",
       "Species          0\n",
       "dtype: int64"
      ]
     },
     "execution_count": 13,
     "metadata": {},
     "output_type": "execute_result"
    }
   ],
   "source": [
    "df.isnull().sum()"
   ]
  },
  {
   "cell_type": "code",
   "execution_count": null,
   "id": "0f651736",
   "metadata": {},
   "outputs": [],
   "source": []
  },
  {
   "cell_type": "markdown",
   "id": "b0c9b9dc",
   "metadata": {},
   "source": [
    "## 2. Understanding The Variables"
   ]
  },
  {
   "cell_type": "code",
   "execution_count": 14,
   "id": "06b34d15",
   "metadata": {},
   "outputs": [
    {
     "data": {
      "text/plain": [
       "Index(['Id', 'SepalLengthCm', 'SepalWidthCm', 'PetalLengthCm', 'PetalWidthCm',\n",
       "       'Species'],\n",
       "      dtype='object')"
      ]
     },
     "execution_count": 14,
     "metadata": {},
     "output_type": "execute_result"
    }
   ],
   "source": [
    "df.columns"
   ]
  },
  {
   "cell_type": "code",
   "execution_count": null,
   "id": "2cf21a9f",
   "metadata": {},
   "outputs": [],
   "source": []
  },
  {
   "cell_type": "code",
   "execution_count": 15,
   "id": "506a370b",
   "metadata": {},
   "outputs": [
    {
     "data": {
      "text/html": [
       "<div>\n",
       "<style scoped>\n",
       "    .dataframe tbody tr th:only-of-type {\n",
       "        vertical-align: middle;\n",
       "    }\n",
       "\n",
       "    .dataframe tbody tr th {\n",
       "        vertical-align: top;\n",
       "    }\n",
       "\n",
       "    .dataframe thead th {\n",
       "        text-align: right;\n",
       "    }\n",
       "</style>\n",
       "<table border=\"1\" class=\"dataframe\">\n",
       "  <thead>\n",
       "    <tr style=\"text-align: right;\">\n",
       "      <th></th>\n",
       "      <th>Id</th>\n",
       "      <th>SepalLengthCm</th>\n",
       "      <th>SepalWidthCm</th>\n",
       "      <th>PetalLengthCm</th>\n",
       "      <th>PetalWidthCm</th>\n",
       "      <th>Species</th>\n",
       "    </tr>\n",
       "  </thead>\n",
       "  <tbody>\n",
       "    <tr>\n",
       "      <th>count</th>\n",
       "      <td>150.00</td>\n",
       "      <td>150.00</td>\n",
       "      <td>150.00</td>\n",
       "      <td>150.00</td>\n",
       "      <td>150.00</td>\n",
       "      <td>150</td>\n",
       "    </tr>\n",
       "    <tr>\n",
       "      <th>unique</th>\n",
       "      <td>NaN</td>\n",
       "      <td>NaN</td>\n",
       "      <td>NaN</td>\n",
       "      <td>NaN</td>\n",
       "      <td>NaN</td>\n",
       "      <td>3</td>\n",
       "    </tr>\n",
       "    <tr>\n",
       "      <th>top</th>\n",
       "      <td>NaN</td>\n",
       "      <td>NaN</td>\n",
       "      <td>NaN</td>\n",
       "      <td>NaN</td>\n",
       "      <td>NaN</td>\n",
       "      <td>Iris-setosa</td>\n",
       "    </tr>\n",
       "    <tr>\n",
       "      <th>freq</th>\n",
       "      <td>NaN</td>\n",
       "      <td>NaN</td>\n",
       "      <td>NaN</td>\n",
       "      <td>NaN</td>\n",
       "      <td>NaN</td>\n",
       "      <td>50</td>\n",
       "    </tr>\n",
       "    <tr>\n",
       "      <th>mean</th>\n",
       "      <td>75.50</td>\n",
       "      <td>5.84</td>\n",
       "      <td>3.05</td>\n",
       "      <td>3.76</td>\n",
       "      <td>1.20</td>\n",
       "      <td>NaN</td>\n",
       "    </tr>\n",
       "    <tr>\n",
       "      <th>std</th>\n",
       "      <td>43.45</td>\n",
       "      <td>0.83</td>\n",
       "      <td>0.43</td>\n",
       "      <td>1.76</td>\n",
       "      <td>0.76</td>\n",
       "      <td>NaN</td>\n",
       "    </tr>\n",
       "    <tr>\n",
       "      <th>min</th>\n",
       "      <td>1.00</td>\n",
       "      <td>4.30</td>\n",
       "      <td>2.00</td>\n",
       "      <td>1.00</td>\n",
       "      <td>0.10</td>\n",
       "      <td>NaN</td>\n",
       "    </tr>\n",
       "    <tr>\n",
       "      <th>25%</th>\n",
       "      <td>38.25</td>\n",
       "      <td>5.10</td>\n",
       "      <td>2.80</td>\n",
       "      <td>1.60</td>\n",
       "      <td>0.30</td>\n",
       "      <td>NaN</td>\n",
       "    </tr>\n",
       "    <tr>\n",
       "      <th>50%</th>\n",
       "      <td>75.50</td>\n",
       "      <td>5.80</td>\n",
       "      <td>3.00</td>\n",
       "      <td>4.35</td>\n",
       "      <td>1.30</td>\n",
       "      <td>NaN</td>\n",
       "    </tr>\n",
       "    <tr>\n",
       "      <th>75%</th>\n",
       "      <td>112.75</td>\n",
       "      <td>6.40</td>\n",
       "      <td>3.30</td>\n",
       "      <td>5.10</td>\n",
       "      <td>1.80</td>\n",
       "      <td>NaN</td>\n",
       "    </tr>\n",
       "    <tr>\n",
       "      <th>max</th>\n",
       "      <td>150.00</td>\n",
       "      <td>7.90</td>\n",
       "      <td>4.40</td>\n",
       "      <td>6.90</td>\n",
       "      <td>2.50</td>\n",
       "      <td>NaN</td>\n",
       "    </tr>\n",
       "  </tbody>\n",
       "</table>\n",
       "</div>"
      ],
      "text/plain": [
       "            Id  SepalLengthCm  SepalWidthCm  PetalLengthCm  PetalWidthCm  \\\n",
       "count   150.00         150.00        150.00         150.00        150.00   \n",
       "unique     NaN            NaN           NaN            NaN           NaN   \n",
       "top        NaN            NaN           NaN            NaN           NaN   \n",
       "freq       NaN            NaN           NaN            NaN           NaN   \n",
       "mean     75.50           5.84          3.05           3.76          1.20   \n",
       "std      43.45           0.83          0.43           1.76          0.76   \n",
       "min       1.00           4.30          2.00           1.00          0.10   \n",
       "25%      38.25           5.10          2.80           1.60          0.30   \n",
       "50%      75.50           5.80          3.00           4.35          1.30   \n",
       "75%     112.75           6.40          3.30           5.10          1.80   \n",
       "max     150.00           7.90          4.40           6.90          2.50   \n",
       "\n",
       "            Species  \n",
       "count           150  \n",
       "unique            3  \n",
       "top     Iris-setosa  \n",
       "freq             50  \n",
       "mean            NaN  \n",
       "std             NaN  \n",
       "min             NaN  \n",
       "25%             NaN  \n",
       "50%             NaN  \n",
       "75%             NaN  \n",
       "max             NaN  "
      ]
     },
     "execution_count": 15,
     "metadata": {},
     "output_type": "execute_result"
    }
   ],
   "source": [
    "df.describe(include= 'all').round(2)"
   ]
  },
  {
   "cell_type": "code",
   "execution_count": null,
   "id": "72bd7b8b",
   "metadata": {},
   "outputs": [],
   "source": []
  },
  {
   "cell_type": "markdown",
   "id": "efd7af31",
   "metadata": {},
   "source": [
    "### Check Unique Values for each variable"
   ]
  },
  {
   "cell_type": "code",
   "execution_count": 16,
   "id": "28e414c9",
   "metadata": {},
   "outputs": [
    {
     "name": "stdout",
     "output_type": "stream",
     "text": [
      "No. of unique values in Id is 150\n",
      "No. of unique values in SepalLengthCm is 35\n",
      "No. of unique values in SepalWidthCm is 23\n",
      "No. of unique values in PetalLengthCm is 43\n",
      "No. of unique values in PetalWidthCm is 22\n",
      "No. of unique values in Species is 3\n"
     ]
    }
   ],
   "source": [
    "for i in df.columns.tolist():\n",
    "    print(\"No. of unique values in\",i,\"is\",df[i].nunique())"
   ]
  },
  {
   "cell_type": "code",
   "execution_count": null,
   "id": "3e6d5e54",
   "metadata": {},
   "outputs": [],
   "source": []
  },
  {
   "cell_type": "markdown",
   "id": "72eb5b26",
   "metadata": {},
   "source": [
    "## 3. Data Wrangling"
   ]
  },
  {
   "cell_type": "code",
   "execution_count": 17,
   "id": "55d86a5d",
   "metadata": {},
   "outputs": [],
   "source": [
    "data=df.iloc[:,1:]"
   ]
  },
  {
   "cell_type": "code",
   "execution_count": 18,
   "id": "eda1eb13",
   "metadata": {},
   "outputs": [
    {
     "data": {
      "text/html": [
       "<div>\n",
       "<style scoped>\n",
       "    .dataframe tbody tr th:only-of-type {\n",
       "        vertical-align: middle;\n",
       "    }\n",
       "\n",
       "    .dataframe tbody tr th {\n",
       "        vertical-align: top;\n",
       "    }\n",
       "\n",
       "    .dataframe thead th {\n",
       "        text-align: right;\n",
       "    }\n",
       "</style>\n",
       "<table border=\"1\" class=\"dataframe\">\n",
       "  <thead>\n",
       "    <tr style=\"text-align: right;\">\n",
       "      <th></th>\n",
       "      <th>SepalLengthCm</th>\n",
       "      <th>SepalWidthCm</th>\n",
       "      <th>PetalLengthCm</th>\n",
       "      <th>PetalWidthCm</th>\n",
       "      <th>Species</th>\n",
       "    </tr>\n",
       "  </thead>\n",
       "  <tbody>\n",
       "    <tr>\n",
       "      <th>0</th>\n",
       "      <td>5.1</td>\n",
       "      <td>3.5</td>\n",
       "      <td>1.4</td>\n",
       "      <td>0.2</td>\n",
       "      <td>Iris-setosa</td>\n",
       "    </tr>\n",
       "    <tr>\n",
       "      <th>1</th>\n",
       "      <td>4.9</td>\n",
       "      <td>3.0</td>\n",
       "      <td>1.4</td>\n",
       "      <td>0.2</td>\n",
       "      <td>Iris-setosa</td>\n",
       "    </tr>\n",
       "    <tr>\n",
       "      <th>2</th>\n",
       "      <td>4.7</td>\n",
       "      <td>3.2</td>\n",
       "      <td>1.3</td>\n",
       "      <td>0.2</td>\n",
       "      <td>Iris-setosa</td>\n",
       "    </tr>\n",
       "    <tr>\n",
       "      <th>3</th>\n",
       "      <td>4.6</td>\n",
       "      <td>3.1</td>\n",
       "      <td>1.5</td>\n",
       "      <td>0.2</td>\n",
       "      <td>Iris-setosa</td>\n",
       "    </tr>\n",
       "    <tr>\n",
       "      <th>4</th>\n",
       "      <td>5.0</td>\n",
       "      <td>3.6</td>\n",
       "      <td>1.4</td>\n",
       "      <td>0.2</td>\n",
       "      <td>Iris-setosa</td>\n",
       "    </tr>\n",
       "  </tbody>\n",
       "</table>\n",
       "</div>"
      ],
      "text/plain": [
       "   SepalLengthCm  SepalWidthCm  PetalLengthCm  PetalWidthCm      Species\n",
       "0            5.1           3.5            1.4           0.2  Iris-setosa\n",
       "1            4.9           3.0            1.4           0.2  Iris-setosa\n",
       "2            4.7           3.2            1.3           0.2  Iris-setosa\n",
       "3            4.6           3.1            1.5           0.2  Iris-setosa\n",
       "4            5.0           3.6            1.4           0.2  Iris-setosa"
      ]
     },
     "execution_count": 18,
     "metadata": {},
     "output_type": "execute_result"
    }
   ],
   "source": [
    "data.head()"
   ]
  },
  {
   "cell_type": "code",
   "execution_count": null,
   "id": "57ccf450",
   "metadata": {},
   "outputs": [],
   "source": []
  },
  {
   "cell_type": "markdown",
   "id": "607b95d5",
   "metadata": {},
   "source": [
    "manipulations ---> Only drop the first column of the dataset."
   ]
  },
  {
   "cell_type": "code",
   "execution_count": null,
   "id": "6ef10e5b",
   "metadata": {},
   "outputs": [],
   "source": []
  },
  {
   "cell_type": "markdown",
   "id": "8b8c178a",
   "metadata": {},
   "source": [
    "## 4. Data Vizualization, Storytelling & Experimenting with charts : "
   ]
  },
  {
   "cell_type": "markdown",
   "id": "e47a5d6b",
   "metadata": {},
   "source": [
    "#### Understand the relationships between variables "
   ]
  },
  {
   "cell_type": "code",
   "execution_count": null,
   "id": "479cb951",
   "metadata": {},
   "outputs": [],
   "source": []
  },
  {
   "cell_type": "markdown",
   "id": "37327cb0",
   "metadata": {},
   "source": [
    "### Chart - 1 : Distribution of Numerical Variables"
   ]
  },
  {
   "cell_type": "code",
   "execution_count": 24,
   "id": "3f406dd4",
   "metadata": {},
   "outputs": [
    {
     "data": {
      "image/png": "[encoded data removed]",
      "text/plain": [
       "<Figure size 800x600 with 4 Axes>"
      ]
     },
     "metadata": {},
     "output_type": "display_data"
    }
   ],
   "source": [
    "plt.figure(figsize=(8, 6))\n",
    "plt.suptitle('Distribution of Iris Flower Measurements', fontsize=14)\n",
    "\n",
    "# Create a 2x2 grid of subplots\n",
    "plt.subplot(2, 2, 1)  # Subplot 1 (Top-Left)\n",
    "plt.hist(data['SepalLengthCm'])\n",
    "plt.title('Sepal Length Distribution')\n",
    "\n",
    "plt.subplot(2, 2, 2)  # Subplot 2 (Top-Right)\n",
    "plt.hist(data['SepalWidthCm'])\n",
    "plt.title('Sepal Width Distribution')\n",
    "\n",
    "plt.subplot(2, 2, 3)  # Subplot 3 (Bottom-Left)\n",
    "plt.hist(data['PetalLengthCm'])\n",
    "plt.title('Petal Length Distribution')\n",
    "\n",
    "plt.subplot(2, 2, 4)  # Subplot 4 (Bottom-Right)\n",
    "plt.hist(data['PetalWidthCm'])\n",
    "plt.title('Petal Width Distribution')\n",
    "\n",
    "# Display the subplots\n",
    "plt.tight_layout()  # Helps in adjusting the layout\n",
    "plt.show()"
   ]
  },
  {
   "cell_type": "code",
   "execution_count": null,
   "id": "45f76c9a",
   "metadata": {},
   "outputs": [],
   "source": []
  },
  {
   "cell_type": "markdown",
   "id": "64a98733",
   "metadata": {},
   "source": [
    "### Chart - 2 : Sepal Length vs Sepal Width"
   ]
  },
  {
   "cell_type": "code",
   "execution_count": 25,
   "id": "92c168bf",
   "metadata": {},
   "outputs": [],
   "source": [
    "colors = ['red', 'yellow', 'green']\n",
    "species = ['Iris-setosa', 'Iris-versicolor', 'Iris-virginica']"
   ]
  },
  {
   "cell_type": "code",
   "execution_count": 26,
   "id": "a010e536",
   "metadata": {},
   "outputs": [
    {
     "data": {
      "image/png": "[encoded data removed]",
      "text/plain": [
       "<Figure size 640x480 with 1 Axes>"
      ]
     },
     "metadata": {},
     "output_type": "display_data"
    }
   ],
   "source": [
    "for i in range(3):\n",
    "    # Select data for the current species.\n",
    "    x = data[data['Species'] == species[i]]\n",
    "\n",
    "    # Create a scatter plot with the specified color and label for the current species.\n",
    "    plt.scatter(x['SepalLengthCm'], x['SepalWidthCm'], c=colors[i], label=species[i])\n",
    "\n",
    "# Add labels to the x and y axes.\n",
    "plt.xlabel('Sepal Length')\n",
    "plt.ylabel('Sepal Width')\n",
    "\n",
    "# Add a legend to identify species based on colors.\n",
    "plt.legend()\n",
    "\n",
    "# Display the scatter plot.\n",
    "plt.show()"
   ]
  },
  {
   "cell_type": "code",
   "execution_count": null,
   "id": "be8e76a7",
   "metadata": {},
   "outputs": [],
   "source": []
  },
  {
   "cell_type": "markdown",
   "id": "1c198d69",
   "metadata": {},
   "source": [
    "### Chart - 3 : Petal Length vs Petal Width"
   ]
  },
  {
   "cell_type": "code",
   "execution_count": 27,
   "id": "3c316675",
   "metadata": {},
   "outputs": [
    {
     "data": {
      "image/png": "[encoded data removed]",
      "text/plain": [
       "<Figure size 640x480 with 1 Axes>"
      ]
     },
     "metadata": {},
     "output_type": "display_data"
    }
   ],
   "source": [
    "for i in range(3):\n",
    "    # Select data for the current species.\n",
    "    x = data[data['Species'] == species[i]]\n",
    "\n",
    "    # Create a scatter plot with the specified color and label for the current species.\n",
    "    plt.scatter(x['PetalLengthCm'], x['PetalWidthCm'], c=colors[i], label=species[i])\n",
    "\n",
    "# Add labels to the x and y axes.\n",
    "plt.xlabel('Petal Length')\n",
    "plt.ylabel('Petal Width')\n",
    "\n",
    "# Add a legend to identify species based on colors.\n",
    "plt.legend()\n",
    "\n",
    "# Display the scatter plot.\n",
    "plt.show()"
   ]
  },
  {
   "cell_type": "code",
   "execution_count": null,
   "id": "8077feed",
   "metadata": {},
   "outputs": [],
   "source": []
  },
  {
   "cell_type": "markdown",
   "id": "4d74d521",
   "metadata": {},
   "source": [
    "### Chart - 4 : Sepal Length vs Petal Length"
   ]
  },
  {
   "cell_type": "code",
   "execution_count": 28,
   "id": "66239031",
   "metadata": {},
   "outputs": [
    {
     "data": {
      "image/png": "[encoded data removed]",
      "text/plain": [
       "<Figure size 640x480 with 1 Axes>"
      ]
     },
     "metadata": {},
     "output_type": "display_data"
    }
   ],
   "source": [
    "for i in range(3):\n",
    "    # Select data for the current species.\n",
    "    x = data[data['Species'] == species[i]]\n",
    "\n",
    "    # Create a scatter plot with the specified color and label for the current species.\n",
    "    plt.scatter(x['SepalLengthCm'], x['PetalLengthCm'], c=colors[i], label=species[i])\n",
    "\n",
    "# Add labels to the x and y axes.\n",
    "plt.xlabel('Sepal Length')\n",
    "plt.ylabel('Petal Length')\n",
    "\n",
    "# Add a legend to identify species based on colors.\n",
    "plt.legend()\n",
    "\n",
    "# Display the scatter plot.\n",
    "plt.show()"
   ]
  },
  {
   "cell_type": "code",
   "execution_count": null,
   "id": "04523a02",
   "metadata": {},
   "outputs": [],
   "source": []
  },
  {
   "cell_type": "markdown",
   "id": "c2328248",
   "metadata": {},
   "source": [
    "### Chart - 5 : Sepal Width vs Petal Width"
   ]
  },
  {
   "cell_type": "code",
   "execution_count": 29,
   "id": "3a28a732",
   "metadata": {},
   "outputs": [
    {
     "data": {
      "image/png": "[encoded data removed]",
      "text/plain": [
       "<Figure size 640x480 with 1 Axes>"
      ]
     },
     "metadata": {},
     "output_type": "display_data"
    }
   ],
   "source": [
    "for i in range(3):\n",
    "    # Select data for the current species.\n",
    "    x = data[data['Species'] == species[i]]\n",
    "\n",
    "    # Create a scatter plot with the specified color and label for the current species.\n",
    "    plt.scatter(x['SepalWidthCm'], x['PetalWidthCm'], c=colors[i], label=species[i])\n",
    "\n",
    "# Add labels to the x and y axes.\n",
    "plt.xlabel('Sepal Width')\n",
    "plt.ylabel('Petal Width')\n",
    "\n",
    "# Add a legend to identify species based on colors.\n",
    "plt.legend()\n",
    "\n",
    "# Display the scatter plot.\n",
    "plt.show()"
   ]
  },
  {
   "cell_type": "code",
   "execution_count": null,
   "id": "c17ffb86",
   "metadata": {},
   "outputs": [],
   "source": []
  },
  {
   "cell_type": "markdown",
   "id": "6db30fa9",
   "metadata": {},
   "source": [
    "### Chart - 6 : Correlation Heatmap"
   ]
  },
  {
   "cell_type": "code",
   "execution_count": 30,
   "id": "85d7fb56",
   "metadata": {},
   "outputs": [
    {
     "data": {
      "image/png": "[encoded data removed]",
      "text/plain": [
       "<Figure size 800x400 with 2 Axes>"
      ]
     },
     "metadata": {},
     "output_type": "display_data"
    }
   ],
   "source": [
    "corr_matrix = data.corr()\n",
    "\n",
    "# Plot Heatmap\n",
    "plt.figure(figsize=(8, 4))\n",
    "sns.heatmap(corr_matrix, annot=True, cmap='Reds_r')\n",
    "\n",
    "# Setting Labels\n",
    "plt.title('Correlation Matrix heatmap')\n",
    "\n",
    "# Display Chart\n",
    "plt.show()"
   ]
  },
  {
   "cell_type": "code",
   "execution_count": null,
   "id": "6f83e184",
   "metadata": {},
   "outputs": [],
   "source": []
  },
  {
   "cell_type": "markdown",
   "id": "21e6e9b8",
   "metadata": {},
   "source": [
    "## 5. Feature Engineering & Data Pre-processing"
   ]
  },
  {
   "cell_type": "code",
   "execution_count": null,
   "id": "4072c967",
   "metadata": {},
   "outputs": [],
   "source": []
  },
  {
   "cell_type": "markdown",
   "id": "7058adcb",
   "metadata": {},
   "source": [
    "### Categorical Encoding"
   ]
  },
  {
   "cell_type": "code",
   "execution_count": 31,
   "id": "f4bfb07f",
   "metadata": {},
   "outputs": [
    {
     "name": "stdout",
     "output_type": "stream",
     "text": [
      "Encoded Species Values:\n",
      "[0 1 2]\n"
     ]
    }
   ],
   "source": [
    "le = LabelEncoder()\n",
    "\n",
    "# Encode the 'Species' column to convert the species names to numerical labels\n",
    "data['Species'] = le.fit_transform(data['Species'])\n",
    "\n",
    "# Check the unique values in the 'Species' column after encoding\n",
    "unique_species = data['Species'].unique()\n",
    "\n",
    "# Display the unique encoded values\n",
    "print(\"Encoded Species Values:\")\n",
    "print(unique_species) # 'Iris-setosa' == 0, 'Iris-versicolor' == 1, 'Iris-virginica' == 2"
   ]
  },
  {
   "cell_type": "code",
   "execution_count": null,
   "id": "a3e370d4",
   "metadata": {},
   "outputs": [],
   "source": []
  },
  {
   "cell_type": "markdown",
   "id": "5b540207",
   "metadata": {},
   "source": [
    "### Data Scaling"
   ]
  },
  {
   "cell_type": "code",
   "execution_count": 32,
   "id": "62d804c8",
   "metadata": {},
   "outputs": [],
   "source": [
    "x=data.drop(columns=['Species'], axis=1)\n",
    "y=data['Species']"
   ]
  },
  {
   "cell_type": "code",
   "execution_count": null,
   "id": "789269a9",
   "metadata": {},
   "outputs": [],
   "source": []
  },
  {
   "cell_type": "markdown",
   "id": "997a7fad",
   "metadata": {},
   "source": [
    "### Data Splitting"
   ]
  },
  {
   "cell_type": "code",
   "execution_count": 33,
   "id": "d192367b",
   "metadata": {},
   "outputs": [],
   "source": [
    "x_train,x_test,y_train,y_test=train_test_split(x,y, test_size=0.3)"
   ]
  },
  {
   "cell_type": "code",
   "execution_count": 34,
   "id": "935961eb",
   "metadata": {},
   "outputs": [
    {
     "data": {
      "text/plain": [
       "2    37\n",
       "1    36\n",
       "0    32\n",
       "Name: Species, dtype: int64"
      ]
     },
     "execution_count": 34,
     "metadata": {},
     "output_type": "execute_result"
    }
   ],
   "source": [
    "y_train.value_counts()"
   ]
  },
  {
   "cell_type": "code",
   "execution_count": null,
   "id": "84d2837c",
   "metadata": {},
   "outputs": [],
   "source": []
  },
  {
   "cell_type": "markdown",
   "id": "6c87cdce",
   "metadata": {},
   "source": [
    "## 6. ML Model Implementation"
   ]
  },
  {
   "cell_type": "code",
   "execution_count": 35,
   "id": "932229fe",
   "metadata": {},
   "outputs": [],
   "source": [
    "def evaluate_model(model, x_train, x_test, y_train, y_test):\n",
    "    # Fit the model to the training data.\n",
    "    model.fit(x_train, y_train)\n",
    "\n",
    "    # make predictions on the test data\n",
    "    y_pred_train = model.predict(x_train)\n",
    "    y_pred_test = model.predict(x_test)\n",
    "\n",
    "    # calculate confusion matrix\n",
    "    cm_train = confusion_matrix(y_train, y_pred_train)\n",
    "    cm_test = confusion_matrix(y_test, y_pred_test)\n",
    "\n",
    "    fig, ax = plt.subplots(1, 2, figsize=(11,4))\n",
    "\n",
    "    print(\"\\nConfusion Matrix:\")\n",
    "    sns.heatmap(cm_train, annot=True, xticklabels=['Negative', 'Positive'], yticklabels=['Negative', 'Positive'], cmap=\"Oranges\", fmt='.4g', ax=ax[0])\n",
    "    ax[0].set_xlabel(\"Predicted Label\")\n",
    "    ax[0].set_ylabel(\"True Label\")\n",
    "    ax[0].set_title(\"Train Confusion Matrix\")\n",
    "\n",
    "    sns.heatmap(cm_test, annot=True, xticklabels=['Negative', 'Positive'], yticklabels=['Negative', 'Positive'], cmap=\"Oranges\", fmt='.4g', ax=ax[1])\n",
    "    ax[1].set_xlabel(\"Predicted Label\")\n",
    "    ax[1].set_ylabel(\"True Label\")\n",
    "    ax[1].set_title(\"Test Confusion Matrix\")\n",
    "\n",
    "    plt.tight_layout()\n",
    "    plt.show()\n",
    "\n",
    "\n",
    "    # calculate classification report\n",
    "    cr_train = classification_report(y_train, y_pred_train, output_dict=True)\n",
    "    cr_test = classification_report(y_test, y_pred_test, output_dict=True)\n",
    "    print(\"\\nTrain Classification Report:\")\n",
    "    crt = pd.DataFrame(cr_train).T\n",
    "    print(crt.to_markdown())\n",
    "    # sns.heatmap(pd.DataFrame(cr_train).T.iloc[:, :-1], annot=True, cmap=\"Blues\")\n",
    "    print(\"\\nTest Classification Report:\")\n",
    "    crt2 = pd.DataFrame(cr_test).T\n",
    "    print(crt2.to_markdown())\n",
    "    # sns.heatmap(pd.DataFrame(cr_test).T.iloc[:, :-1], annot=True, cmap=\"Blues\")\n",
    "\n",
    "    precision_train = cr_train['weighted avg']['precision']\n",
    "    precision_test = cr_test['weighted avg']['precision']\n",
    "\n",
    "    recall_train = cr_train['weighted avg']['recall']\n",
    "    recall_test = cr_test['weighted avg']['recall']\n",
    "\n",
    "    acc_train = accuracy_score(y_true = y_train, y_pred = y_pred_train)\n",
    "    acc_test = accuracy_score(y_true = y_test, y_pred = y_pred_test)\n",
    "\n",
    "    F1_train = cr_train['weighted avg']['f1-score']\n",
    "    F1_test = cr_test['weighted avg']['f1-score']\n",
    "\n",
    "    model_score = [precision_train, precision_test, recall_train, recall_test, acc_train, acc_test, F1_train, F1_test ]\n",
    "    return model_score"
   ]
  },
  {
   "cell_type": "code",
   "execution_count": null,
   "id": "e5a879d3",
   "metadata": {},
   "outputs": [],
   "source": []
  },
  {
   "cell_type": "code",
   "execution_count": 36,
   "id": "fa369cf4",
   "metadata": {},
   "outputs": [],
   "source": [
    "score = pd.DataFrame(index = ['Precision Train', 'Precision Test','Recall Train','Recall Test','Accuracy Train', 'Accuracy Test', 'F1 macro Train', 'F1 macro Test'])# Create a score dataframe"
   ]
  },
  {
   "cell_type": "code",
   "execution_count": null,
   "id": "7af89788",
   "metadata": {},
   "outputs": [],
   "source": []
  },
  {
   "cell_type": "markdown",
   "id": "6b1cce8d",
   "metadata": {},
   "source": [
    "## ML Model - 1 : Logistic regression"
   ]
  },
  {
   "cell_type": "code",
   "execution_count": 37,
   "id": "cee057c8",
   "metadata": {},
   "outputs": [],
   "source": [
    "lr_model = LogisticRegression(fit_intercept=True, max_iter=10000)"
   ]
  },
  {
   "cell_type": "code",
   "execution_count": null,
   "id": "9ee12c53",
   "metadata": {},
   "outputs": [],
   "source": []
  },
  {
   "cell_type": "code",
   "execution_count": 38,
   "id": "aac4060b",
   "metadata": {},
   "outputs": [
    {
     "name": "stdout",
     "output_type": "stream",
     "text": [
      "\n",
      "Confusion Matrix:\n"
     ]
    },
    {
     "data": {
      "image/png": "[encoded data removed]",
      "text/plain": [
       "<Figure size 1100x400 with 4 Axes>"
      ]
     },
     "metadata": {},
     "output_type": "display_data"
    },
    {
     "name": "stdout",
     "output_type": "stream",
     "text": [
      "\n",
      "Train Classification Report:\n",
      "|              |   precision |   recall |   f1-score |    support |\n",
      "|:-------------|------------:|---------:|-----------:|-----------:|\n",
      "| 0            |    1        | 1        |   1        |  32        |\n",
      "| 1            |    1        | 0.944444 |   0.971429 |  36        |\n",
      "| 2            |    0.948718 | 1        |   0.973684 |  37        |\n",
      "| accuracy     |    0.980952 | 0.980952 |   0.980952 |   0.980952 |\n",
      "| macro avg    |    0.982906 | 0.981481 |   0.981704 | 105        |\n",
      "| weighted avg |    0.981929 | 0.980952 |   0.980931 | 105        |\n",
      "\n",
      "Test Classification Report:\n",
      "|              |   precision |   recall |   f1-score |   support |\n",
      "|:-------------|------------:|---------:|-----------:|----------:|\n",
      "| 0            |    1        | 1        |   1        | 18        |\n",
      "| 1            |    1        | 0.928571 |   0.962963 | 14        |\n",
      "| 2            |    0.928571 | 1        |   0.962963 | 13        |\n",
      "| accuracy     |    0.977778 | 0.977778 |   0.977778 |  0.977778 |\n",
      "| macro avg    |    0.97619  | 0.97619  |   0.975309 | 45        |\n",
      "| weighted avg |    0.979365 | 0.977778 |   0.977778 | 45        |\n"
     ]
    }
   ],
   "source": [
    "# Visualizing evaluation Metric Score chart\n",
    "\n",
    "lr_score = evaluate_model(lr_model, x_train, x_test, y_train, y_test)"
   ]
  },
  {
   "cell_type": "code",
   "execution_count": null,
   "id": "caaff378",
   "metadata": {},
   "outputs": [],
   "source": []
  },
  {
   "cell_type": "code",
   "execution_count": 39,
   "id": "ae9d57aa",
   "metadata": {},
   "outputs": [
    {
     "data": {
      "text/html": [
       "<div>\n",
       "<style scoped>\n",
       "    .dataframe tbody tr th:only-of-type {\n",
       "        vertical-align: middle;\n",
       "    }\n",
       "\n",
       "    .dataframe tbody tr th {\n",
       "        vertical-align: top;\n",
       "    }\n",
       "\n",
       "    .dataframe thead th {\n",
       "        text-align: right;\n",
       "    }\n",
       "</style>\n",
       "<table border=\"1\" class=\"dataframe\">\n",
       "  <thead>\n",
       "    <tr style=\"text-align: right;\">\n",
       "      <th></th>\n",
       "      <th>Logistic regression</th>\n",
       "    </tr>\n",
       "  </thead>\n",
       "  <tbody>\n",
       "    <tr>\n",
       "      <th>Precision Train</th>\n",
       "      <td>0.981929</td>\n",
       "    </tr>\n",
       "    <tr>\n",
       "      <th>Precision Test</th>\n",
       "      <td>0.979365</td>\n",
       "    </tr>\n",
       "    <tr>\n",
       "      <th>Recall Train</th>\n",
       "      <td>0.980952</td>\n",
       "    </tr>\n",
       "    <tr>\n",
       "      <th>Recall Test</th>\n",
       "      <td>0.977778</td>\n",
       "    </tr>\n",
       "    <tr>\n",
       "      <th>Accuracy Train</th>\n",
       "      <td>0.980952</td>\n",
       "    </tr>\n",
       "    <tr>\n",
       "      <th>Accuracy Test</th>\n",
       "      <td>0.977778</td>\n",
       "    </tr>\n",
       "    <tr>\n",
       "      <th>F1 macro Train</th>\n",
       "      <td>0.980931</td>\n",
       "    </tr>\n",
       "    <tr>\n",
       "      <th>F1 macro Test</th>\n",
       "      <td>0.977778</td>\n",
       "    </tr>\n",
       "  </tbody>\n",
       "</table>\n",
       "</div>"
      ],
      "text/plain": [
       "                 Logistic regression\n",
       "Precision Train             0.981929\n",
       "Precision Test              0.979365\n",
       "Recall Train                0.980952\n",
       "Recall Test                 0.977778\n",
       "Accuracy Train              0.980952\n",
       "Accuracy Test               0.977778\n",
       "F1 macro Train              0.980931\n",
       "F1 macro Test               0.977778"
      ]
     },
     "execution_count": 39,
     "metadata": {},
     "output_type": "execute_result"
    }
   ],
   "source": [
    "score['Logistic regression'] = lr_score\n",
    "score"
   ]
  },
  {
   "cell_type": "code",
   "execution_count": null,
   "id": "f567da82",
   "metadata": {},
   "outputs": [],
   "source": []
  },
  {
   "cell_type": "markdown",
   "id": "4ace1d36",
   "metadata": {},
   "source": [
    "### Cross- Validation & Hyperparameter Tuning"
   ]
  },
  {
   "cell_type": "code",
   "execution_count": 40,
   "id": "1b61db96",
   "metadata": {},
   "outputs": [
    {
     "name": "stdout",
     "output_type": "stream",
     "text": [
      "Best hyperparameters:  {'C': 10, 'penalty': 'l2', 'solver': 'sag'}\n"
     ]
    }
   ],
   "source": [
    "param_grid = {'C': [100,10,1,0.1,0.01,0.001,0.0001],\n",
    "              'penalty': ['l1', 'l2'],\n",
    "              'solver':['newton-cg', 'lbfgs', 'liblinear', 'sag', 'saga']}\n",
    "\n",
    "# Initializing the logistic regression model\n",
    "logreg = LogisticRegression(fit_intercept=True, max_iter=10000, random_state=0)\n",
    "\n",
    "# Repeated stratified kfold\n",
    "rskf = RepeatedStratifiedKFold(n_splits=3, n_repeats=4, random_state=0)\n",
    "\n",
    "# Using GridSearchCV to tune the hyperparameters using cross-validation\n",
    "grid = GridSearchCV(logreg, param_grid, cv=rskf)\n",
    "grid.fit(x_train, y_train)\n",
    "\n",
    "# Select the best hyperparameters found by GridSearchCV\n",
    "best_params = grid.best_params_\n",
    "print(\"Best hyperparameters: \", best_params)"
   ]
  },
  {
   "cell_type": "code",
   "execution_count": 41,
   "id": "c86c9802",
   "metadata": {},
   "outputs": [],
   "source": [
    "# Initiate model with best parameters\n",
    "lr_model2 = LogisticRegression(C=best_params['C'],\n",
    "                                  penalty=best_params['penalty'],\n",
    "                                  solver=best_params['solver'],\n",
    "                                  max_iter=10000, random_state=0)"
   ]
  },
  {
   "cell_type": "code",
   "execution_count": 42,
   "id": "3c337f91",
   "metadata": {},
   "outputs": [
    {
     "name": "stdout",
     "output_type": "stream",
     "text": [
      "\n",
      "Confusion Matrix:\n"
     ]
    },
    {
     "data": {
      "image/png": "[encoded data removed]",
      "text/plain": [
       "<Figure size 1100x400 with 4 Axes>"
      ]
     },
     "metadata": {},
     "output_type": "display_data"
    },
    {
     "name": "stdout",
     "output_type": "stream",
     "text": [
      "\n",
      "Train Classification Report:\n",
      "|              |   precision |   recall |   f1-score |    support |\n",
      "|:-------------|------------:|---------:|-----------:|-----------:|\n",
      "| 0            |    1        | 1        |   1        |  32        |\n",
      "| 1            |    0.972222 | 0.972222 |   0.972222 |  36        |\n",
      "| 2            |    0.972973 | 0.972973 |   0.972973 |  37        |\n",
      "| accuracy     |    0.980952 | 0.980952 |   0.980952 |   0.980952 |\n",
      "| macro avg    |    0.981732 | 0.981732 |   0.981732 | 105        |\n",
      "| weighted avg |    0.980952 | 0.980952 |   0.980952 | 105        |\n",
      "\n",
      "Test Classification Report:\n",
      "|              |   precision |   recall |   f1-score |   support |\n",
      "|:-------------|------------:|---------:|-----------:|----------:|\n",
      "| 0            |    1        | 1        |   1        | 18        |\n",
      "| 1            |    1        | 0.928571 |   0.962963 | 14        |\n",
      "| 2            |    0.928571 | 1        |   0.962963 | 13        |\n",
      "| accuracy     |    0.977778 | 0.977778 |   0.977778 |  0.977778 |\n",
      "| macro avg    |    0.97619  | 0.97619  |   0.975309 | 45        |\n",
      "| weighted avg |    0.979365 | 0.977778 |   0.977778 | 45        |\n"
     ]
    }
   ],
   "source": [
    "# Visualizing evaluation Metric Score chart\n",
    "\n",
    "lr_score2 = evaluate_model(lr_model2, x_train, x_test, y_train, y_test)"
   ]
  },
  {
   "cell_type": "code",
   "execution_count": null,
   "id": "d62ccc97",
   "metadata": {},
   "outputs": [],
   "source": []
  },
  {
   "cell_type": "code",
   "execution_count": 43,
   "id": "31b2e32f",
   "metadata": {},
   "outputs": [],
   "source": [
    "score['Logistic regression tuned'] = lr_score2"
   ]
  },
  {
   "cell_type": "code",
   "execution_count": 44,
   "id": "63236d99",
   "metadata": {},
   "outputs": [
    {
     "data": {
      "text/html": [
       "<div>\n",
       "<style scoped>\n",
       "    .dataframe tbody tr th:only-of-type {\n",
       "        vertical-align: middle;\n",
       "    }\n",
       "\n",
       "    .dataframe tbody tr th {\n",
       "        vertical-align: top;\n",
       "    }\n",
       "\n",
       "    .dataframe thead th {\n",
       "        text-align: right;\n",
       "    }\n",
       "</style>\n",
       "<table border=\"1\" class=\"dataframe\">\n",
       "  <thead>\n",
       "    <tr style=\"text-align: right;\">\n",
       "      <th></th>\n",
       "      <th>Logistic regression</th>\n",
       "      <th>Logistic regression tuned</th>\n",
       "    </tr>\n",
       "  </thead>\n",
       "  <tbody>\n",
       "    <tr>\n",
       "      <th>Precision Train</th>\n",
       "      <td>0.981929</td>\n",
       "      <td>0.980952</td>\n",
       "    </tr>\n",
       "    <tr>\n",
       "      <th>Precision Test</th>\n",
       "      <td>0.979365</td>\n",
       "      <td>0.979365</td>\n",
       "    </tr>\n",
       "    <tr>\n",
       "      <th>Recall Train</th>\n",
       "      <td>0.980952</td>\n",
       "      <td>0.980952</td>\n",
       "    </tr>\n",
       "    <tr>\n",
       "      <th>Recall Test</th>\n",
       "      <td>0.977778</td>\n",
       "      <td>0.977778</td>\n",
       "    </tr>\n",
       "    <tr>\n",
       "      <th>Accuracy Train</th>\n",
       "      <td>0.980952</td>\n",
       "      <td>0.980952</td>\n",
       "    </tr>\n",
       "    <tr>\n",
       "      <th>Accuracy Test</th>\n",
       "      <td>0.977778</td>\n",
       "      <td>0.977778</td>\n",
       "    </tr>\n",
       "    <tr>\n",
       "      <th>F1 macro Train</th>\n",
       "      <td>0.980931</td>\n",
       "      <td>0.980952</td>\n",
       "    </tr>\n",
       "    <tr>\n",
       "      <th>F1 macro Test</th>\n",
       "      <td>0.977778</td>\n",
       "      <td>0.977778</td>\n",
       "    </tr>\n",
       "  </tbody>\n",
       "</table>\n",
       "</div>"
      ],
      "text/plain": [
       "                 Logistic regression  Logistic regression tuned\n",
       "Precision Train             0.981929                   0.980952\n",
       "Precision Test              0.979365                   0.979365\n",
       "Recall Train                0.980952                   0.980952\n",
       "Recall Test                 0.977778                   0.977778\n",
       "Accuracy Train              0.980952                   0.980952\n",
       "Accuracy Test               0.977778                   0.977778\n",
       "F1 macro Train              0.980931                   0.980952\n",
       "F1 macro Test               0.977778                   0.977778"
      ]
     },
     "execution_count": 44,
     "metadata": {},
     "output_type": "execute_result"
    }
   ],
   "source": [
    "# Updated Evaluation metric Score Chart\n",
    "\n",
    "score"
   ]
  },
  {
   "cell_type": "code",
   "execution_count": null,
   "id": "a1def150",
   "metadata": {},
   "outputs": [],
   "source": []
  },
  {
   "cell_type": "markdown",
   "id": "54543b51",
   "metadata": {},
   "source": [
    "#### It appears that hyperparameter tuning did not improve the performance of the Logistic Regression model on the test set.\n",
    "\n",
    "#### The precision, recall, accuracy and F1 scores on the test set are same for both tuned and untuned Logistic Regression models."
   ]
  },
  {
   "cell_type": "code",
   "execution_count": null,
   "id": "f782b124",
   "metadata": {},
   "outputs": [],
   "source": []
  },
  {
   "cell_type": "markdown",
   "id": "618dbd4c",
   "metadata": {},
   "source": [
    "## ML Model - 2 : Decision Tree"
   ]
  },
  {
   "cell_type": "code",
   "execution_count": 45,
   "id": "70862b7b",
   "metadata": {},
   "outputs": [],
   "source": [
    "dt_model = DecisionTreeClassifier(random_state=20)"
   ]
  },
  {
   "cell_type": "code",
   "execution_count": 46,
   "id": "fc152aa2",
   "metadata": {},
   "outputs": [
    {
     "name": "stdout",
     "output_type": "stream",
     "text": [
      "\n",
      "Confusion Matrix:\n"
     ]
    },
    {
     "data": {
      "image/png": "[encoded data removed]",
      "text/plain": [
       "<Figure size 1100x400 with 4 Axes>"
      ]
     },
     "metadata": {},
     "output_type": "display_data"
    },
    {
     "name": "stdout",
     "output_type": "stream",
     "text": [
      "\n",
      "Train Classification Report:\n",
      "|              |   precision |   recall |   f1-score |   support |\n",
      "|:-------------|------------:|---------:|-----------:|----------:|\n",
      "| 0            |           1 |        1 |          1 |        32 |\n",
      "| 1            |           1 |        1 |          1 |        36 |\n",
      "| 2            |           1 |        1 |          1 |        37 |\n",
      "| accuracy     |           1 |        1 |          1 |         1 |\n",
      "| macro avg    |           1 |        1 |          1 |       105 |\n",
      "| weighted avg |           1 |        1 |          1 |       105 |\n",
      "\n",
      "Test Classification Report:\n",
      "|              |   precision |   recall |   f1-score |   support |\n",
      "|:-------------|------------:|---------:|-----------:|----------:|\n",
      "| 0            |    1        | 1        |   1        | 18        |\n",
      "| 1            |    0.928571 | 0.928571 |   0.928571 | 14        |\n",
      "| 2            |    0.923077 | 0.923077 |   0.923077 | 13        |\n",
      "| accuracy     |    0.955556 | 0.955556 |   0.955556 |  0.955556 |\n",
      "| macro avg    |    0.950549 | 0.950549 |   0.950549 | 45        |\n",
      "| weighted avg |    0.955556 | 0.955556 |   0.955556 | 45        |\n"
     ]
    }
   ],
   "source": [
    "# Visualizing evaluation Metric Score chart\n",
    "\n",
    "dt_score = evaluate_model(dt_model, x_train, x_test, y_train, y_test)"
   ]
  },
  {
   "cell_type": "code",
   "execution_count": null,
   "id": "03c3f19e",
   "metadata": {},
   "outputs": [],
   "source": []
  },
  {
   "cell_type": "code",
   "execution_count": 47,
   "id": "035d6471",
   "metadata": {},
   "outputs": [
    {
     "data": {
      "text/html": [
       "<div>\n",
       "<style scoped>\n",
       "    .dataframe tbody tr th:only-of-type {\n",
       "        vertical-align: middle;\n",
       "    }\n",
       "\n",
       "    .dataframe tbody tr th {\n",
       "        vertical-align: top;\n",
       "    }\n",
       "\n",
       "    .dataframe thead th {\n",
       "        text-align: right;\n",
       "    }\n",
       "</style>\n",
       "<table border=\"1\" class=\"dataframe\">\n",
       "  <thead>\n",
       "    <tr style=\"text-align: right;\">\n",
       "      <th></th>\n",
       "      <th>Logistic regression</th>\n",
       "      <th>Logistic regression tuned</th>\n",
       "      <th>Decision Tree</th>\n",
       "    </tr>\n",
       "  </thead>\n",
       "  <tbody>\n",
       "    <tr>\n",
       "      <th>Precision Train</th>\n",
       "      <td>0.981929</td>\n",
       "      <td>0.980952</td>\n",
       "      <td>1.000000</td>\n",
       "    </tr>\n",
       "    <tr>\n",
       "      <th>Precision Test</th>\n",
       "      <td>0.979365</td>\n",
       "      <td>0.979365</td>\n",
       "      <td>0.955556</td>\n",
       "    </tr>\n",
       "    <tr>\n",
       "      <th>Recall Train</th>\n",
       "      <td>0.980952</td>\n",
       "      <td>0.980952</td>\n",
       "      <td>1.000000</td>\n",
       "    </tr>\n",
       "    <tr>\n",
       "      <th>Recall Test</th>\n",
       "      <td>0.977778</td>\n",
       "      <td>0.977778</td>\n",
       "      <td>0.955556</td>\n",
       "    </tr>\n",
       "    <tr>\n",
       "      <th>Accuracy Train</th>\n",
       "      <td>0.980952</td>\n",
       "      <td>0.980952</td>\n",
       "      <td>1.000000</td>\n",
       "    </tr>\n",
       "    <tr>\n",
       "      <th>Accuracy Test</th>\n",
       "      <td>0.977778</td>\n",
       "      <td>0.977778</td>\n",
       "      <td>0.955556</td>\n",
       "    </tr>\n",
       "    <tr>\n",
       "      <th>F1 macro Train</th>\n",
       "      <td>0.980931</td>\n",
       "      <td>0.980952</td>\n",
       "      <td>1.000000</td>\n",
       "    </tr>\n",
       "    <tr>\n",
       "      <th>F1 macro Test</th>\n",
       "      <td>0.977778</td>\n",
       "      <td>0.977778</td>\n",
       "      <td>0.955556</td>\n",
       "    </tr>\n",
       "  </tbody>\n",
       "</table>\n",
       "</div>"
      ],
      "text/plain": [
       "                 Logistic regression  Logistic regression tuned  Decision Tree\n",
       "Precision Train             0.981929                   0.980952       1.000000\n",
       "Precision Test              0.979365                   0.979365       0.955556\n",
       "Recall Train                0.980952                   0.980952       1.000000\n",
       "Recall Test                 0.977778                   0.977778       0.955556\n",
       "Accuracy Train              0.980952                   0.980952       1.000000\n",
       "Accuracy Test               0.977778                   0.977778       0.955556\n",
       "F1 macro Train              0.980931                   0.980952       1.000000\n",
       "F1 macro Test               0.977778                   0.977778       0.955556"
      ]
     },
     "execution_count": 47,
     "metadata": {},
     "output_type": "execute_result"
    }
   ],
   "source": [
    "# Updated Evaluation metric Score Chart\n",
    "\n",
    "score['Decision Tree'] = dt_score\n",
    "score"
   ]
  },
  {
   "cell_type": "code",
   "execution_count": null,
   "id": "25d72d8a",
   "metadata": {},
   "outputs": [],
   "source": []
  },
  {
   "cell_type": "markdown",
   "id": "76e1b74d",
   "metadata": {},
   "source": [
    "### Cross- Validation & Hyperparameter Tuning"
   ]
  },
  {
   "cell_type": "code",
   "execution_count": 48,
   "id": "8835ffb9",
   "metadata": {},
   "outputs": [
    {
     "name": "stdout",
     "output_type": "stream",
     "text": [
      "Best hyperparameters:  {'max_depth': 3, 'min_samples_leaf': 10, 'min_samples_split': 2}\n"
     ]
    }
   ],
   "source": [
    "grid = {'max_depth' : [3,4,5,6,7,8],\n",
    "        'min_samples_split' : np.arange(2,8),\n",
    "        'min_samples_leaf' : np.arange(10,20)}\n",
    "\n",
    "# Initialize the model\n",
    "model = DecisionTreeClassifier()\n",
    "\n",
    "# repeated stratified kfold\n",
    "rskf = RepeatedStratifiedKFold(n_splits=3, n_repeats=3, random_state=0)\n",
    "\n",
    "# Initialize GridSearchCV\n",
    "grid_search = GridSearchCV(model, grid, cv=rskf)\n",
    "\n",
    "# Fit the GridSearchCV to the training data\n",
    "grid_search.fit(x_train, y_train)\n",
    "\n",
    "# Select the best hyperparameters\n",
    "best_params = grid_search.best_params_\n",
    "print(\"Best hyperparameters: \", best_params)"
   ]
  },
  {
   "cell_type": "code",
   "execution_count": 49,
   "id": "73cf2135",
   "metadata": {},
   "outputs": [],
   "source": [
    "# Train a new model with the best hyperparameters\n",
    "dt_model2 = DecisionTreeClassifier(max_depth=best_params['max_depth'],\n",
    "                                 min_samples_leaf=best_params['min_samples_leaf'],\n",
    "                                 min_samples_split=best_params['min_samples_split'],\n",
    "                                 random_state=20)"
   ]
  },
  {
   "cell_type": "code",
   "execution_count": 50,
   "id": "0e1c6737",
   "metadata": {},
   "outputs": [
    {
     "name": "stdout",
     "output_type": "stream",
     "text": [
      "\n",
      "Confusion Matrix:\n"
     ]
    },
    {
     "data": {
      "image/png": "[encoded data removed]",
      "text/plain": [
       "<Figure size 1100x400 with 4 Axes>"
      ]
     },
     "metadata": {},
     "output_type": "display_data"
    },
    {
     "name": "stdout",
     "output_type": "stream",
     "text": [
      "\n",
      "Train Classification Report:\n",
      "|              |   precision |   recall |   f1-score |    support |\n",
      "|:-------------|------------:|---------:|-----------:|-----------:|\n",
      "| 0            |    1        | 1        |   1        |  32        |\n",
      "| 1            |    0.9      | 1        |   0.947368 |  36        |\n",
      "| 2            |    1        | 0.891892 |   0.942857 |  37        |\n",
      "| accuracy     |    0.961905 | 0.961905 |   0.961905 |   0.961905 |\n",
      "| macro avg    |    0.966667 | 0.963964 |   0.963409 | 105        |\n",
      "| weighted avg |    0.965714 | 0.961905 |   0.961819 | 105        |\n",
      "\n",
      "Test Classification Report:\n",
      "|              |   precision |   recall |   f1-score |   support |\n",
      "|:-------------|------------:|---------:|-----------:|----------:|\n",
      "| 0            |    1        | 1        |   1        | 18        |\n",
      "| 1            |    0.928571 | 0.928571 |   0.928571 | 14        |\n",
      "| 2            |    0.923077 | 0.923077 |   0.923077 | 13        |\n",
      "| accuracy     |    0.955556 | 0.955556 |   0.955556 |  0.955556 |\n",
      "| macro avg    |    0.950549 | 0.950549 |   0.950549 | 45        |\n",
      "| weighted avg |    0.955556 | 0.955556 |   0.955556 | 45        |\n"
     ]
    }
   ],
   "source": [
    "# Visualizing evaluation Metric Score chart\n",
    "dt2_score = evaluate_model(dt_model2, x_train, x_test, y_train, y_test)"
   ]
  },
  {
   "cell_type": "code",
   "execution_count": null,
   "id": "943621b7",
   "metadata": {},
   "outputs": [],
   "source": []
  },
  {
   "cell_type": "code",
   "execution_count": 51,
   "id": "b127d6bd",
   "metadata": {},
   "outputs": [
    {
     "data": {
      "text/html": [
       "<div>\n",
       "<style scoped>\n",
       "    .dataframe tbody tr th:only-of-type {\n",
       "        vertical-align: middle;\n",
       "    }\n",
       "\n",
       "    .dataframe tbody tr th {\n",
       "        vertical-align: top;\n",
       "    }\n",
       "\n",
       "    .dataframe thead th {\n",
       "        text-align: right;\n",
       "    }\n",
       "</style>\n",
       "<table border=\"1\" class=\"dataframe\">\n",
       "  <thead>\n",
       "    <tr style=\"text-align: right;\">\n",
       "      <th></th>\n",
       "      <th>Logistic regression</th>\n",
       "      <th>Logistic regression tuned</th>\n",
       "      <th>Decision Tree</th>\n",
       "    </tr>\n",
       "  </thead>\n",
       "  <tbody>\n",
       "    <tr>\n",
       "      <th>Precision Train</th>\n",
       "      <td>0.981929</td>\n",
       "      <td>0.980952</td>\n",
       "      <td>1.000000</td>\n",
       "    </tr>\n",
       "    <tr>\n",
       "      <th>Precision Test</th>\n",
       "      <td>0.979365</td>\n",
       "      <td>0.979365</td>\n",
       "      <td>0.955556</td>\n",
       "    </tr>\n",
       "    <tr>\n",
       "      <th>Recall Train</th>\n",
       "      <td>0.980952</td>\n",
       "      <td>0.980952</td>\n",
       "      <td>1.000000</td>\n",
       "    </tr>\n",
       "    <tr>\n",
       "      <th>Recall Test</th>\n",
       "      <td>0.977778</td>\n",
       "      <td>0.977778</td>\n",
       "      <td>0.955556</td>\n",
       "    </tr>\n",
       "    <tr>\n",
       "      <th>Accuracy Train</th>\n",
       "      <td>0.980952</td>\n",
       "      <td>0.980952</td>\n",
       "      <td>1.000000</td>\n",
       "    </tr>\n",
       "    <tr>\n",
       "      <th>Accuracy Test</th>\n",
       "      <td>0.977778</td>\n",
       "      <td>0.977778</td>\n",
       "      <td>0.955556</td>\n",
       "    </tr>\n",
       "    <tr>\n",
       "      <th>F1 macro Train</th>\n",
       "      <td>0.980931</td>\n",
       "      <td>0.980952</td>\n",
       "      <td>1.000000</td>\n",
       "    </tr>\n",
       "    <tr>\n",
       "      <th>F1 macro Test</th>\n",
       "      <td>0.977778</td>\n",
       "      <td>0.977778</td>\n",
       "      <td>0.955556</td>\n",
       "    </tr>\n",
       "  </tbody>\n",
       "</table>\n",
       "</div>"
      ],
      "text/plain": [
       "                 Logistic regression  Logistic regression tuned  Decision Tree\n",
       "Precision Train             0.981929                   0.980952       1.000000\n",
       "Precision Test              0.979365                   0.979365       0.955556\n",
       "Recall Train                0.980952                   0.980952       1.000000\n",
       "Recall Test                 0.977778                   0.977778       0.955556\n",
       "Accuracy Train              0.980952                   0.980952       1.000000\n",
       "Accuracy Test               0.977778                   0.977778       0.955556\n",
       "F1 macro Train              0.980931                   0.980952       1.000000\n",
       "F1 macro Test               0.977778                   0.977778       0.955556"
      ]
     },
     "execution_count": 51,
     "metadata": {},
     "output_type": "execute_result"
    }
   ],
   "source": [
    "# Updated Evaluation metric Score Chart\n",
    "\n",
    "score"
   ]
  },
  {
   "cell_type": "code",
   "execution_count": null,
   "id": "e9c3a3fb",
   "metadata": {},
   "outputs": [],
   "source": []
  },
  {
   "cell_type": "markdown",
   "id": "458c36df",
   "metadata": {},
   "source": [
    "#### It appears that hyperparameter tuning didn't improved the performance of the Decision Tree model on the test set. \n",
    "\n",
    "#### The precision, recall, accuracy and F1 scores on the test set are less for the tuned Decision Tree model compare to the untuned Decision Tree model.\n",
    "\n",
    "#### The tuned model is not overfitting like the untuned model."
   ]
  },
  {
   "cell_type": "code",
   "execution_count": null,
   "id": "590d3ab9",
   "metadata": {},
   "outputs": [],
   "source": []
  },
  {
   "cell_type": "markdown",
   "id": "ea5c5716",
   "metadata": {},
   "source": [
    "## ML Model - 3 : Random Forest"
   ]
  },
  {
   "cell_type": "code",
   "execution_count": 52,
   "id": "3cd4b2e7",
   "metadata": {},
   "outputs": [],
   "source": [
    "rf_model = RandomForestClassifier(random_state=0)"
   ]
  },
  {
   "cell_type": "code",
   "execution_count": 53,
   "id": "ff1e1ba9",
   "metadata": {},
   "outputs": [
    {
     "name": "stdout",
     "output_type": "stream",
     "text": [
      "\n",
      "Confusion Matrix:\n"
     ]
    },
    {
     "data": {
      "image/png": "[encoded data removed]",
      "text/plain": [
       "<Figure size 1100x400 with 4 Axes>"
      ]
     },
     "metadata": {},
     "output_type": "display_data"
    },
    {
     "name": "stdout",
     "output_type": "stream",
     "text": [
      "\n",
      "Train Classification Report:\n",
      "|              |   precision |   recall |   f1-score |   support |\n",
      "|:-------------|------------:|---------:|-----------:|----------:|\n",
      "| 0            |           1 |        1 |          1 |        32 |\n",
      "| 1            |           1 |        1 |          1 |        36 |\n",
      "| 2            |           1 |        1 |          1 |        37 |\n",
      "| accuracy     |           1 |        1 |          1 |         1 |\n",
      "| macro avg    |           1 |        1 |          1 |       105 |\n",
      "| weighted avg |           1 |        1 |          1 |       105 |\n",
      "\n",
      "Test Classification Report:\n",
      "|              |   precision |   recall |   f1-score |   support |\n",
      "|:-------------|------------:|---------:|-----------:|----------:|\n",
      "| 0            |    1        | 1        |   1        | 18        |\n",
      "| 1            |    0.928571 | 0.928571 |   0.928571 | 14        |\n",
      "| 2            |    0.923077 | 0.923077 |   0.923077 | 13        |\n",
      "| accuracy     |    0.955556 | 0.955556 |   0.955556 |  0.955556 |\n",
      "| macro avg    |    0.950549 | 0.950549 |   0.950549 | 45        |\n",
      "| weighted avg |    0.955556 | 0.955556 |   0.955556 | 45        |\n"
     ]
    }
   ],
   "source": [
    "# Visualizing evaluation Metric Score chart\n",
    "rf_score = evaluate_model(rf_model, x_train, x_test, y_train, y_test)"
   ]
  },
  {
   "cell_type": "code",
   "execution_count": null,
   "id": "aa133a8d",
   "metadata": {},
   "outputs": [],
   "source": []
  },
  {
   "cell_type": "code",
   "execution_count": 54,
   "id": "3b1c489e",
   "metadata": {},
   "outputs": [
    {
     "data": {
      "text/html": [
       "<div>\n",
       "<style scoped>\n",
       "    .dataframe tbody tr th:only-of-type {\n",
       "        vertical-align: middle;\n",
       "    }\n",
       "\n",
       "    .dataframe tbody tr th {\n",
       "        vertical-align: top;\n",
       "    }\n",
       "\n",
       "    .dataframe thead th {\n",
       "        text-align: right;\n",
       "    }\n",
       "</style>\n",
       "<table border=\"1\" class=\"dataframe\">\n",
       "  <thead>\n",
       "    <tr style=\"text-align: right;\">\n",
       "      <th></th>\n",
       "      <th>Logistic regression</th>\n",
       "      <th>Logistic regression tuned</th>\n",
       "      <th>Decision Tree</th>\n",
       "      <th>Random Forest</th>\n",
       "    </tr>\n",
       "  </thead>\n",
       "  <tbody>\n",
       "    <tr>\n",
       "      <th>Precision Train</th>\n",
       "      <td>0.981929</td>\n",
       "      <td>0.980952</td>\n",
       "      <td>1.000000</td>\n",
       "      <td>1.000000</td>\n",
       "    </tr>\n",
       "    <tr>\n",
       "      <th>Precision Test</th>\n",
       "      <td>0.979365</td>\n",
       "      <td>0.979365</td>\n",
       "      <td>0.955556</td>\n",
       "      <td>0.955556</td>\n",
       "    </tr>\n",
       "    <tr>\n",
       "      <th>Recall Train</th>\n",
       "      <td>0.980952</td>\n",
       "      <td>0.980952</td>\n",
       "      <td>1.000000</td>\n",
       "      <td>1.000000</td>\n",
       "    </tr>\n",
       "    <tr>\n",
       "      <th>Recall Test</th>\n",
       "      <td>0.977778</td>\n",
       "      <td>0.977778</td>\n",
       "      <td>0.955556</td>\n",
       "      <td>0.955556</td>\n",
       "    </tr>\n",
       "    <tr>\n",
       "      <th>Accuracy Train</th>\n",
       "      <td>0.980952</td>\n",
       "      <td>0.980952</td>\n",
       "      <td>1.000000</td>\n",
       "      <td>1.000000</td>\n",
       "    </tr>\n",
       "    <tr>\n",
       "      <th>Accuracy Test</th>\n",
       "      <td>0.977778</td>\n",
       "      <td>0.977778</td>\n",
       "      <td>0.955556</td>\n",
       "      <td>0.955556</td>\n",
       "    </tr>\n",
       "    <tr>\n",
       "      <th>F1 macro Train</th>\n",
       "      <td>0.980931</td>\n",
       "      <td>0.980952</td>\n",
       "      <td>1.000000</td>\n",
       "      <td>1.000000</td>\n",
       "    </tr>\n",
       "    <tr>\n",
       "      <th>F1 macro Test</th>\n",
       "      <td>0.977778</td>\n",
       "      <td>0.977778</td>\n",
       "      <td>0.955556</td>\n",
       "      <td>0.955556</td>\n",
       "    </tr>\n",
       "  </tbody>\n",
       "</table>\n",
       "</div>"
      ],
      "text/plain": [
       "                 Logistic regression  Logistic regression tuned  \\\n",
       "Precision Train             0.981929                   0.980952   \n",
       "Precision Test              0.979365                   0.979365   \n",
       "Recall Train                0.980952                   0.980952   \n",
       "Recall Test                 0.977778                   0.977778   \n",
       "Accuracy Train              0.980952                   0.980952   \n",
       "Accuracy Test               0.977778                   0.977778   \n",
       "F1 macro Train              0.980931                   0.980952   \n",
       "F1 macro Test               0.977778                   0.977778   \n",
       "\n",
       "                 Decision Tree  Random Forest  \n",
       "Precision Train       1.000000       1.000000  \n",
       "Precision Test        0.955556       0.955556  \n",
       "Recall Train          1.000000       1.000000  \n",
       "Recall Test           0.955556       0.955556  \n",
       "Accuracy Train        1.000000       1.000000  \n",
       "Accuracy Test         0.955556       0.955556  \n",
       "F1 macro Train        1.000000       1.000000  \n",
       "F1 macro Test         0.955556       0.955556  "
      ]
     },
     "execution_count": 54,
     "metadata": {},
     "output_type": "execute_result"
    }
   ],
   "source": [
    "# Updated Evaluation metric Score Chart\n",
    "\n",
    "score['Random Forest'] = rf_score\n",
    "score"
   ]
  },
  {
   "cell_type": "code",
   "execution_count": null,
   "id": "4179efe6",
   "metadata": {},
   "outputs": [],
   "source": []
  },
  {
   "cell_type": "markdown",
   "id": "9b0de830",
   "metadata": {},
   "source": [
    "### Cross- Validation & Hyperparameter Tuning"
   ]
  },
  {
   "cell_type": "code",
   "execution_count": 55,
   "id": "1c908b4b",
   "metadata": {},
   "outputs": [
    {
     "name": "stdout",
     "output_type": "stream",
     "text": [
      "Best hyperparameters:  {'n_estimators': 200, 'min_samples_split': 4, 'max_depth': 12}\n"
     ]
    }
   ],
   "source": [
    "grid = {'n_estimators': [10, 50, 100, 200],\n",
    "              'max_depth': [8, 9, 10, 11, 12,13, 14, 15],\n",
    "              'min_samples_split': [2, 3, 4, 5]}\n",
    "\n",
    "# Initialize the model\n",
    "rf = RandomForestClassifier(random_state=0)\n",
    "\n",
    "# Repeated stratified kfold\n",
    "rskf = RepeatedStratifiedKFold(n_splits=3, n_repeats=3, random_state=0)\n",
    "\n",
    "# Initialize RandomSearchCV\n",
    "random_search = RandomizedSearchCV(rf, grid,cv=rskf, n_iter=10, n_jobs=-1)\n",
    "\n",
    "# Fit the RandomSearchCV to the training data\n",
    "random_search.fit(x_train, y_train)\n",
    "\n",
    "# Select the best hyperparameters\n",
    "best_params = random_search.best_params_\n",
    "print(\"Best hyperparameters: \", best_params)"
   ]
  },
  {
   "cell_type": "code",
   "execution_count": 56,
   "id": "b109c8ef",
   "metadata": {},
   "outputs": [],
   "source": [
    "# Initialize model with best parameters\n",
    "rf_model2 = RandomForestClassifier(n_estimators = best_params['n_estimators'],\n",
    "                                 min_samples_leaf= best_params['min_samples_split'],\n",
    "                                 max_depth = best_params['max_depth'],\n",
    "                                 random_state=0)"
   ]
  },
  {
   "cell_type": "code",
   "execution_count": 57,
   "id": "344597ef",
   "metadata": {},
   "outputs": [
    {
     "name": "stdout",
     "output_type": "stream",
     "text": [
      "\n",
      "Confusion Matrix:\n"
     ]
    },
    {
     "data": {
      "image/png": "[encoded data removed]",
      "text/plain": [
       "<Figure size 1100x400 with 4 Axes>"
      ]
     },
     "metadata": {},
     "output_type": "display_data"
    },
    {
     "name": "stdout",
     "output_type": "stream",
     "text": [
      "\n",
      "Train Classification Report:\n",
      "|              |   precision |   recall |   f1-score |    support |\n",
      "|:-------------|------------:|---------:|-----------:|-----------:|\n",
      "| 0            |    1        | 1        |   1        |  32        |\n",
      "| 1            |    0.945946 | 0.972222 |   0.958904 |  36        |\n",
      "| 2            |    0.972222 | 0.945946 |   0.958904 |  37        |\n",
      "| accuracy     |    0.971429 | 0.971429 |   0.971429 |   0.971429 |\n",
      "| macro avg    |    0.972723 | 0.972723 |   0.972603 | 105        |\n",
      "| weighted avg |    0.971679 | 0.971429 |   0.971429 | 105        |\n",
      "\n",
      "Test Classification Report:\n",
      "|              |   precision |   recall |   f1-score |   support |\n",
      "|:-------------|------------:|---------:|-----------:|----------:|\n",
      "| 0            |    1        | 1        |   1        | 18        |\n",
      "| 1            |    1        | 0.928571 |   0.962963 | 14        |\n",
      "| 2            |    0.928571 | 1        |   0.962963 | 13        |\n",
      "| accuracy     |    0.977778 | 0.977778 |   0.977778 |  0.977778 |\n",
      "| macro avg    |    0.97619  | 0.97619  |   0.975309 | 45        |\n",
      "| weighted avg |    0.979365 | 0.977778 |   0.977778 | 45        |\n"
     ]
    }
   ],
   "source": [
    "# Visualizing evaluation Metric Score chart\n",
    "rf2_score = evaluate_model(rf_model2, x_train, x_test, y_train, y_test)"
   ]
  },
  {
   "cell_type": "code",
   "execution_count": null,
   "id": "d6f1c459",
   "metadata": {},
   "outputs": [],
   "source": []
  },
  {
   "cell_type": "code",
   "execution_count": 58,
   "id": "d0284509",
   "metadata": {},
   "outputs": [
    {
     "data": {
      "text/html": [
       "<div>\n",
       "<style scoped>\n",
       "    .dataframe tbody tr th:only-of-type {\n",
       "        vertical-align: middle;\n",
       "    }\n",
       "\n",
       "    .dataframe tbody tr th {\n",
       "        vertical-align: top;\n",
       "    }\n",
       "\n",
       "    .dataframe thead th {\n",
       "        text-align: right;\n",
       "    }\n",
       "</style>\n",
       "<table border=\"1\" class=\"dataframe\">\n",
       "  <thead>\n",
       "    <tr style=\"text-align: right;\">\n",
       "      <th></th>\n",
       "      <th>Logistic regression</th>\n",
       "      <th>Logistic regression tuned</th>\n",
       "      <th>Decision Tree</th>\n",
       "      <th>Random Forest</th>\n",
       "    </tr>\n",
       "  </thead>\n",
       "  <tbody>\n",
       "    <tr>\n",
       "      <th>Precision Train</th>\n",
       "      <td>0.981929</td>\n",
       "      <td>0.980952</td>\n",
       "      <td>1.000000</td>\n",
       "      <td>1.000000</td>\n",
       "    </tr>\n",
       "    <tr>\n",
       "      <th>Precision Test</th>\n",
       "      <td>0.979365</td>\n",
       "      <td>0.979365</td>\n",
       "      <td>0.955556</td>\n",
       "      <td>0.955556</td>\n",
       "    </tr>\n",
       "    <tr>\n",
       "      <th>Recall Train</th>\n",
       "      <td>0.980952</td>\n",
       "      <td>0.980952</td>\n",
       "      <td>1.000000</td>\n",
       "      <td>1.000000</td>\n",
       "    </tr>\n",
       "    <tr>\n",
       "      <th>Recall Test</th>\n",
       "      <td>0.977778</td>\n",
       "      <td>0.977778</td>\n",
       "      <td>0.955556</td>\n",
       "      <td>0.955556</td>\n",
       "    </tr>\n",
       "    <tr>\n",
       "      <th>Accuracy Train</th>\n",
       "      <td>0.980952</td>\n",
       "      <td>0.980952</td>\n",
       "      <td>1.000000</td>\n",
       "      <td>1.000000</td>\n",
       "    </tr>\n",
       "    <tr>\n",
       "      <th>Accuracy Test</th>\n",
       "      <td>0.977778</td>\n",
       "      <td>0.977778</td>\n",
       "      <td>0.955556</td>\n",
       "      <td>0.955556</td>\n",
       "    </tr>\n",
       "    <tr>\n",
       "      <th>F1 macro Train</th>\n",
       "      <td>0.980931</td>\n",
       "      <td>0.980952</td>\n",
       "      <td>1.000000</td>\n",
       "      <td>1.000000</td>\n",
       "    </tr>\n",
       "    <tr>\n",
       "      <th>F1 macro Test</th>\n",
       "      <td>0.977778</td>\n",
       "      <td>0.977778</td>\n",
       "      <td>0.955556</td>\n",
       "      <td>0.955556</td>\n",
       "    </tr>\n",
       "  </tbody>\n",
       "</table>\n",
       "</div>"
      ],
      "text/plain": [
       "                 Logistic regression  Logistic regression tuned  \\\n",
       "Precision Train             0.981929                   0.980952   \n",
       "Precision Test              0.979365                   0.979365   \n",
       "Recall Train                0.980952                   0.980952   \n",
       "Recall Test                 0.977778                   0.977778   \n",
       "Accuracy Train              0.980952                   0.980952   \n",
       "Accuracy Test               0.977778                   0.977778   \n",
       "F1 macro Train              0.980931                   0.980952   \n",
       "F1 macro Test               0.977778                   0.977778   \n",
       "\n",
       "                 Decision Tree  Random Forest  \n",
       "Precision Train       1.000000       1.000000  \n",
       "Precision Test        0.955556       0.955556  \n",
       "Recall Train          1.000000       1.000000  \n",
       "Recall Test           0.955556       0.955556  \n",
       "Accuracy Train        1.000000       1.000000  \n",
       "Accuracy Test         0.955556       0.955556  \n",
       "F1 macro Train        1.000000       1.000000  \n",
       "F1 macro Test         0.955556       0.955556  "
      ]
     },
     "execution_count": 58,
     "metadata": {},
     "output_type": "execute_result"
    }
   ],
   "source": [
    "# Updated Evaluation metric Score Chart\n",
    "score"
   ]
  },
  {
   "cell_type": "code",
   "execution_count": null,
   "id": "5dbec2a2",
   "metadata": {},
   "outputs": [],
   "source": []
  },
  {
   "cell_type": "markdown",
   "id": "38891454",
   "metadata": {},
   "source": [
    "#### It appears that hyperparameter tuning improved the performance of the Random Forest model on the train set. But the precision, recall, accuracy and F1 scores on the test set are same for both tuned and untuned Random Forest models."
   ]
  },
  {
   "cell_type": "code",
   "execution_count": null,
   "id": "01edba23",
   "metadata": {},
   "outputs": [],
   "source": []
  },
  {
   "cell_type": "markdown",
   "id": "04332e7c",
   "metadata": {},
   "source": [
    "## ML Model - 4 : SVM (Support Vector Machine)"
   ]
  },
  {
   "cell_type": "code",
   "execution_count": 59,
   "id": "ce0cbddf",
   "metadata": {},
   "outputs": [],
   "source": [
    "svm_model = SVC(kernel='linear', random_state=0, probability=True)"
   ]
  },
  {
   "cell_type": "code",
   "execution_count": 60,
   "id": "33d8443d",
   "metadata": {},
   "outputs": [
    {
     "name": "stdout",
     "output_type": "stream",
     "text": [
      "\n",
      "Confusion Matrix:\n"
     ]
    },
    {
     "data": {
      "image/png": "[encoded data removed]",
      "text/plain": [
       "<Figure size 1100x400 with 4 Axes>"
      ]
     },
     "metadata": {},
     "output_type": "display_data"
    },
    {
     "name": "stdout",
     "output_type": "stream",
     "text": [
      "\n",
      "Train Classification Report:\n",
      "|              |   precision |   recall |   f1-score |    support |\n",
      "|:-------------|------------:|---------:|-----------:|-----------:|\n",
      "| 0            |    1        | 1        |   1        |  32        |\n",
      "| 1            |    1        | 0.972222 |   0.985915 |  36        |\n",
      "| 2            |    0.973684 | 1        |   0.986667 |  37        |\n",
      "| accuracy     |    0.990476 | 0.990476 |   0.990476 |   0.990476 |\n",
      "| macro avg    |    0.991228 | 0.990741 |   0.990861 | 105        |\n",
      "| weighted avg |    0.990727 | 0.990476 |   0.990473 | 105        |\n",
      "\n",
      "Test Classification Report:\n",
      "|              |   precision |   recall |   f1-score |   support |\n",
      "|:-------------|------------:|---------:|-----------:|----------:|\n",
      "| 0            |    1        | 1        |   1        | 18        |\n",
      "| 1            |    1        | 0.928571 |   0.962963 | 14        |\n",
      "| 2            |    0.928571 | 1        |   0.962963 | 13        |\n",
      "| accuracy     |    0.977778 | 0.977778 |   0.977778 |  0.977778 |\n",
      "| macro avg    |    0.97619  | 0.97619  |   0.975309 | 45        |\n",
      "| weighted avg |    0.979365 | 0.977778 |   0.977778 | 45        |\n"
     ]
    }
   ],
   "source": [
    "# Visualizing evaluation Metric Score chart\n",
    "\n",
    "svm_score = evaluate_model(svm_model, x_train, x_test, y_train, y_test)"
   ]
  },
  {
   "cell_type": "code",
   "execution_count": null,
   "id": "0748ddba",
   "metadata": {},
   "outputs": [],
   "source": []
  },
  {
   "cell_type": "code",
   "execution_count": 61,
   "id": "e0751d94",
   "metadata": {},
   "outputs": [
    {
     "data": {
      "text/html": [
       "<div>\n",
       "<style scoped>\n",
       "    .dataframe tbody tr th:only-of-type {\n",
       "        vertical-align: middle;\n",
       "    }\n",
       "\n",
       "    .dataframe tbody tr th {\n",
       "        vertical-align: top;\n",
       "    }\n",
       "\n",
       "    .dataframe thead th {\n",
       "        text-align: right;\n",
       "    }\n",
       "</style>\n",
       "<table border=\"1\" class=\"dataframe\">\n",
       "  <thead>\n",
       "    <tr style=\"text-align: right;\">\n",
       "      <th></th>\n",
       "      <th>Logistic regression</th>\n",
       "      <th>Logistic regression tuned</th>\n",
       "      <th>Decision Tree</th>\n",
       "      <th>Random Forest</th>\n",
       "      <th>SVM</th>\n",
       "    </tr>\n",
       "  </thead>\n",
       "  <tbody>\n",
       "    <tr>\n",
       "      <th>Precision Train</th>\n",
       "      <td>0.981929</td>\n",
       "      <td>0.980952</td>\n",
       "      <td>1.000000</td>\n",
       "      <td>1.000000</td>\n",
       "      <td>0.990727</td>\n",
       "    </tr>\n",
       "    <tr>\n",
       "      <th>Precision Test</th>\n",
       "      <td>0.979365</td>\n",
       "      <td>0.979365</td>\n",
       "      <td>0.955556</td>\n",
       "      <td>0.955556</td>\n",
       "      <td>0.979365</td>\n",
       "    </tr>\n",
       "    <tr>\n",
       "      <th>Recall Train</th>\n",
       "      <td>0.980952</td>\n",
       "      <td>0.980952</td>\n",
       "      <td>1.000000</td>\n",
       "      <td>1.000000</td>\n",
       "      <td>0.990476</td>\n",
       "    </tr>\n",
       "    <tr>\n",
       "      <th>Recall Test</th>\n",
       "      <td>0.977778</td>\n",
       "      <td>0.977778</td>\n",
       "      <td>0.955556</td>\n",
       "      <td>0.955556</td>\n",
       "      <td>0.977778</td>\n",
       "    </tr>\n",
       "    <tr>\n",
       "      <th>Accuracy Train</th>\n",
       "      <td>0.980952</td>\n",
       "      <td>0.980952</td>\n",
       "      <td>1.000000</td>\n",
       "      <td>1.000000</td>\n",
       "      <td>0.990476</td>\n",
       "    </tr>\n",
       "    <tr>\n",
       "      <th>Accuracy Test</th>\n",
       "      <td>0.977778</td>\n",
       "      <td>0.977778</td>\n",
       "      <td>0.955556</td>\n",
       "      <td>0.955556</td>\n",
       "      <td>0.977778</td>\n",
       "    </tr>\n",
       "    <tr>\n",
       "      <th>F1 macro Train</th>\n",
       "      <td>0.980931</td>\n",
       "      <td>0.980952</td>\n",
       "      <td>1.000000</td>\n",
       "      <td>1.000000</td>\n",
       "      <td>0.990473</td>\n",
       "    </tr>\n",
       "    <tr>\n",
       "      <th>F1 macro Test</th>\n",
       "      <td>0.977778</td>\n",
       "      <td>0.977778</td>\n",
       "      <td>0.955556</td>\n",
       "      <td>0.955556</td>\n",
       "      <td>0.977778</td>\n",
       "    </tr>\n",
       "  </tbody>\n",
       "</table>\n",
       "</div>"
      ],
      "text/plain": [
       "                 Logistic regression  Logistic regression tuned  \\\n",
       "Precision Train             0.981929                   0.980952   \n",
       "Precision Test              0.979365                   0.979365   \n",
       "Recall Train                0.980952                   0.980952   \n",
       "Recall Test                 0.977778                   0.977778   \n",
       "Accuracy Train              0.980952                   0.980952   \n",
       "Accuracy Test               0.977778                   0.977778   \n",
       "F1 macro Train              0.980931                   0.980952   \n",
       "F1 macro Test               0.977778                   0.977778   \n",
       "\n",
       "                 Decision Tree  Random Forest       SVM  \n",
       "Precision Train       1.000000       1.000000  0.990727  \n",
       "Precision Test        0.955556       0.955556  0.979365  \n",
       "Recall Train          1.000000       1.000000  0.990476  \n",
       "Recall Test           0.955556       0.955556  0.977778  \n",
       "Accuracy Train        1.000000       1.000000  0.990476  \n",
       "Accuracy Test         0.955556       0.955556  0.977778  \n",
       "F1 macro Train        1.000000       1.000000  0.990473  \n",
       "F1 macro Test         0.955556       0.955556  0.977778  "
      ]
     },
     "execution_count": 61,
     "metadata": {},
     "output_type": "execute_result"
    }
   ],
   "source": [
    "# Updated Evaluation metric Score Chart\n",
    "\n",
    "score['SVM'] = svm_score\n",
    "score"
   ]
  },
  {
   "cell_type": "code",
   "execution_count": null,
   "id": "dd5a55c6",
   "metadata": {},
   "outputs": [],
   "source": []
  },
  {
   "cell_type": "markdown",
   "id": "fad152ee",
   "metadata": {},
   "source": [
    "### Cross- Validation & Hyperparameter Tuning"
   ]
  },
  {
   "cell_type": "code",
   "execution_count": 62,
   "id": "a30f83ce",
   "metadata": {},
   "outputs": [
    {
     "name": "stdout",
     "output_type": "stream",
     "text": [
      "Best hyperparameters:  {'kernel': 'rbf', 'degree': 5, 'C': 5.5}\n"
     ]
    }
   ],
   "source": [
    "param_grid = {'C': np.arange(0.1, 10, 0.1),\n",
    "              'kernel': ['linear', 'poly', 'rbf', 'sigmoid'],\n",
    "              'degree': np.arange(2, 6, 1)}\n",
    "\n",
    "# Initialize the model\n",
    "svm = SVC(random_state=0, probability=True)\n",
    "\n",
    "# Repeated stratified kfold\n",
    "rskf = RepeatedStratifiedKFold(n_splits=3, n_repeats=3, random_state=0)\n",
    "\n",
    "# Initialize RandomizedSearchCV with kfold cross-validation\n",
    "random_search = RandomizedSearchCV(svm, param_grid, n_iter=10, cv=rskf, n_jobs=-1)\n",
    "\n",
    "# Fit the RandomizedSearchCV to the training data\n",
    "random_search.fit(x_train, y_train)\n",
    "\n",
    "# Select the best hyperparameters\n",
    "best_params = random_search.best_params_\n",
    "print(\"Best hyperparameters: \", best_params)"
   ]
  },
  {
   "cell_type": "code",
   "execution_count": 63,
   "id": "d2abb72a",
   "metadata": {},
   "outputs": [],
   "source": [
    "# Initialize model with best parameters\n",
    "svm_model2 = SVC(C = best_params['C'],\n",
    "           kernel = best_params['kernel'],\n",
    "           degree = best_params['degree'],\n",
    "           random_state=0, probability=True)"
   ]
  },
  {
   "cell_type": "code",
   "execution_count": 64,
   "id": "ed52438d",
   "metadata": {},
   "outputs": [
    {
     "name": "stdout",
     "output_type": "stream",
     "text": [
      "\n",
      "Confusion Matrix:\n"
     ]
    },
    {
     "data": {
      "image/png": "[encoded data removed]",
      "text/plain": [
       "<Figure size 1100x400 with 4 Axes>"
      ]
     },
     "metadata": {},
     "output_type": "display_data"
    },
    {
     "name": "stdout",
     "output_type": "stream",
     "text": [
      "\n",
      "Train Classification Report:\n",
      "|              |   precision |   recall |   f1-score |    support |\n",
      "|:-------------|------------:|---------:|-----------:|-----------:|\n",
      "| 0            |    1        | 1        |   1        |  32        |\n",
      "| 1            |    1        | 0.972222 |   0.985915 |  36        |\n",
      "| 2            |    0.973684 | 1        |   0.986667 |  37        |\n",
      "| accuracy     |    0.990476 | 0.990476 |   0.990476 |   0.990476 |\n",
      "| macro avg    |    0.991228 | 0.990741 |   0.990861 | 105        |\n",
      "| weighted avg |    0.990727 | 0.990476 |   0.990473 | 105        |\n",
      "\n",
      "Test Classification Report:\n",
      "|              |   precision |   recall |   f1-score |   support |\n",
      "|:-------------|------------:|---------:|-----------:|----------:|\n",
      "| 0            |    1        | 1        |   1        | 18        |\n",
      "| 1            |    1        | 0.928571 |   0.962963 | 14        |\n",
      "| 2            |    0.928571 | 1        |   0.962963 | 13        |\n",
      "| accuracy     |    0.977778 | 0.977778 |   0.977778 |  0.977778 |\n",
      "| macro avg    |    0.97619  | 0.97619  |   0.975309 | 45        |\n",
      "| weighted avg |    0.979365 | 0.977778 |   0.977778 | 45        |\n"
     ]
    }
   ],
   "source": [
    "# Visualizing evaluation Metric Score chart\n",
    "svm2_score = evaluate_model(svm_model2, x_train, x_test, y_train, y_test)"
   ]
  },
  {
   "cell_type": "code",
   "execution_count": null,
   "id": "a965058a",
   "metadata": {},
   "outputs": [],
   "source": []
  },
  {
   "cell_type": "code",
   "execution_count": 65,
   "id": "285e1e9b",
   "metadata": {},
   "outputs": [
    {
     "data": {
      "text/html": [
       "<div>\n",
       "<style scoped>\n",
       "    .dataframe tbody tr th:only-of-type {\n",
       "        vertical-align: middle;\n",
       "    }\n",
       "\n",
       "    .dataframe tbody tr th {\n",
       "        vertical-align: top;\n",
       "    }\n",
       "\n",
       "    .dataframe thead th {\n",
       "        text-align: right;\n",
       "    }\n",
       "</style>\n",
       "<table border=\"1\" class=\"dataframe\">\n",
       "  <thead>\n",
       "    <tr style=\"text-align: right;\">\n",
       "      <th></th>\n",
       "      <th>Logistic regression</th>\n",
       "      <th>Logistic regression tuned</th>\n",
       "      <th>Decision Tree</th>\n",
       "      <th>Random Forest</th>\n",
       "      <th>SVM</th>\n",
       "    </tr>\n",
       "  </thead>\n",
       "  <tbody>\n",
       "    <tr>\n",
       "      <th>Precision Train</th>\n",
       "      <td>0.981929</td>\n",
       "      <td>0.980952</td>\n",
       "      <td>1.000000</td>\n",
       "      <td>1.000000</td>\n",
       "      <td>0.990727</td>\n",
       "    </tr>\n",
       "    <tr>\n",
       "      <th>Precision Test</th>\n",
       "      <td>0.979365</td>\n",
       "      <td>0.979365</td>\n",
       "      <td>0.955556</td>\n",
       "      <td>0.955556</td>\n",
       "      <td>0.979365</td>\n",
       "    </tr>\n",
       "    <tr>\n",
       "      <th>Recall Train</th>\n",
       "      <td>0.980952</td>\n",
       "      <td>0.980952</td>\n",
       "      <td>1.000000</td>\n",
       "      <td>1.000000</td>\n",
       "      <td>0.990476</td>\n",
       "    </tr>\n",
       "    <tr>\n",
       "      <th>Recall Test</th>\n",
       "      <td>0.977778</td>\n",
       "      <td>0.977778</td>\n",
       "      <td>0.955556</td>\n",
       "      <td>0.955556</td>\n",
       "      <td>0.977778</td>\n",
       "    </tr>\n",
       "    <tr>\n",
       "      <th>Accuracy Train</th>\n",
       "      <td>0.980952</td>\n",
       "      <td>0.980952</td>\n",
       "      <td>1.000000</td>\n",
       "      <td>1.000000</td>\n",
       "      <td>0.990476</td>\n",
       "    </tr>\n",
       "    <tr>\n",
       "      <th>Accuracy Test</th>\n",
       "      <td>0.977778</td>\n",
       "      <td>0.977778</td>\n",
       "      <td>0.955556</td>\n",
       "      <td>0.955556</td>\n",
       "      <td>0.977778</td>\n",
       "    </tr>\n",
       "    <tr>\n",
       "      <th>F1 macro Train</th>\n",
       "      <td>0.980931</td>\n",
       "      <td>0.980952</td>\n",
       "      <td>1.000000</td>\n",
       "      <td>1.000000</td>\n",
       "      <td>0.990473</td>\n",
       "    </tr>\n",
       "    <tr>\n",
       "      <th>F1 macro Test</th>\n",
       "      <td>0.977778</td>\n",
       "      <td>0.977778</td>\n",
       "      <td>0.955556</td>\n",
       "      <td>0.955556</td>\n",
       "      <td>0.977778</td>\n",
       "    </tr>\n",
       "  </tbody>\n",
       "</table>\n",
       "</div>"
      ],
      "text/plain": [
       "                 Logistic regression  Logistic regression tuned  \\\n",
       "Precision Train             0.981929                   0.980952   \n",
       "Precision Test              0.979365                   0.979365   \n",
       "Recall Train                0.980952                   0.980952   \n",
       "Recall Test                 0.977778                   0.977778   \n",
       "Accuracy Train              0.980952                   0.980952   \n",
       "Accuracy Test               0.977778                   0.977778   \n",
       "F1 macro Train              0.980931                   0.980952   \n",
       "F1 macro Test               0.977778                   0.977778   \n",
       "\n",
       "                 Decision Tree  Random Forest       SVM  \n",
       "Precision Train       1.000000       1.000000  0.990727  \n",
       "Precision Test        0.955556       0.955556  0.979365  \n",
       "Recall Train          1.000000       1.000000  0.990476  \n",
       "Recall Test           0.955556       0.955556  0.977778  \n",
       "Accuracy Train        1.000000       1.000000  0.990476  \n",
       "Accuracy Test         0.955556       0.955556  0.977778  \n",
       "F1 macro Train        1.000000       1.000000  0.990473  \n",
       "F1 macro Test         0.955556       0.955556  0.977778  "
      ]
     },
     "execution_count": 65,
     "metadata": {},
     "output_type": "execute_result"
    }
   ],
   "source": [
    "# Updated Evaluation metric Score Chart\n",
    "score"
   ]
  },
  {
   "cell_type": "code",
   "execution_count": null,
   "id": "297d1778",
   "metadata": {},
   "outputs": [],
   "source": []
  },
  {
   "cell_type": "markdown",
   "id": "5f7a7267",
   "metadata": {},
   "source": [
    "#### It appears that hyperparameter tuning did not improve the performance of the SVM model on the test set.\n",
    "\n",
    "#### The precision, recall, accuracy and F1 scores on the test set are same for both tuned and untuned SVM models."
   ]
  },
  {
   "cell_type": "markdown",
   "id": "6b004f5d",
   "metadata": {},
   "source": [
    "#### It appears that hyperparameter tuning did not improve the performance of the SVM model on the test set.\n",
    "\n",
    "#### The precision, recall, accuracy and F1 scores on the test set are same for both tuned and untuned SVM models."
   ]
  },
  {
   "cell_type": "code",
   "execution_count": null,
   "id": "216d516f",
   "metadata": {},
   "outputs": [],
   "source": []
  },
  {
   "cell_type": "markdown",
   "id": "24e28538",
   "metadata": {},
   "source": [
    "## ML Model - 5 : Xtreme Gradient Boosting"
   ]
  },
  {
   "cell_type": "code",
   "execution_count": 66,
   "id": "625dc0bc",
   "metadata": {},
   "outputs": [],
   "source": [
    "xgb_model = xgb.XGBClassifier()\n",
    "\n",
    "# Model is trained (fit) and predicted in the evaluate model"
   ]
  },
  {
   "cell_type": "code",
   "execution_count": 67,
   "id": "20d8f395",
   "metadata": {},
   "outputs": [
    {
     "name": "stdout",
     "output_type": "stream",
     "text": [
      "\n",
      "Confusion Matrix:\n"
     ]
    },
    {
     "data": {
      "image/png": "[encoded data removed]",
      "text/plain": [
       "<Figure size 1100x400 with 4 Axes>"
      ]
     },
     "metadata": {},
     "output_type": "display_data"
    },
    {
     "name": "stdout",
     "output_type": "stream",
     "text": [
      "\n",
      "Train Classification Report:\n",
      "|              |   precision |   recall |   f1-score |   support |\n",
      "|:-------------|------------:|---------:|-----------:|----------:|\n",
      "| 0            |           1 |        1 |          1 |        32 |\n",
      "| 1            |           1 |        1 |          1 |        36 |\n",
      "| 2            |           1 |        1 |          1 |        37 |\n",
      "| accuracy     |           1 |        1 |          1 |         1 |\n",
      "| macro avg    |           1 |        1 |          1 |       105 |\n",
      "| weighted avg |           1 |        1 |          1 |       105 |\n",
      "\n",
      "Test Classification Report:\n",
      "|              |   precision |   recall |   f1-score |   support |\n",
      "|:-------------|------------:|---------:|-----------:|----------:|\n",
      "| 0            |    0.947368 | 1        |   0.972973 | 18        |\n",
      "| 1            |    0.923077 | 0.857143 |   0.888889 | 14        |\n",
      "| 2            |    0.923077 | 0.923077 |   0.923077 | 13        |\n",
      "| accuracy     |    0.933333 | 0.933333 |   0.933333 |  0.933333 |\n",
      "| macro avg    |    0.931174 | 0.92674  |   0.928313 | 45        |\n",
      "| weighted avg |    0.932794 | 0.933333 |   0.932399 | 45        |\n"
     ]
    }
   ],
   "source": [
    "# Visualizing evaluation Metric Score chart\n",
    "\n",
    "xgb_score = evaluate_model(xgb_model, x_train, x_test, y_train, y_test)"
   ]
  },
  {
   "cell_type": "code",
   "execution_count": null,
   "id": "db70d6d0",
   "metadata": {},
   "outputs": [],
   "source": []
  },
  {
   "cell_type": "code",
   "execution_count": 68,
   "id": "2b51ef46",
   "metadata": {},
   "outputs": [
    {
     "data": {
      "text/html": [
       "<div>\n",
       "<style scoped>\n",
       "    .dataframe tbody tr th:only-of-type {\n",
       "        vertical-align: middle;\n",
       "    }\n",
       "\n",
       "    .dataframe tbody tr th {\n",
       "        vertical-align: top;\n",
       "    }\n",
       "\n",
       "    .dataframe thead th {\n",
       "        text-align: right;\n",
       "    }\n",
       "</style>\n",
       "<table border=\"1\" class=\"dataframe\">\n",
       "  <thead>\n",
       "    <tr style=\"text-align: right;\">\n",
       "      <th></th>\n",
       "      <th>Logistic regression</th>\n",
       "      <th>Logistic regression tuned</th>\n",
       "      <th>Decision Tree</th>\n",
       "      <th>Random Forest</th>\n",
       "      <th>SVM</th>\n",
       "      <th>XGB</th>\n",
       "    </tr>\n",
       "  </thead>\n",
       "  <tbody>\n",
       "    <tr>\n",
       "      <th>Precision Train</th>\n",
       "      <td>0.981929</td>\n",
       "      <td>0.980952</td>\n",
       "      <td>1.000000</td>\n",
       "      <td>1.000000</td>\n",
       "      <td>0.990727</td>\n",
       "      <td>1.000000</td>\n",
       "    </tr>\n",
       "    <tr>\n",
       "      <th>Precision Test</th>\n",
       "      <td>0.979365</td>\n",
       "      <td>0.979365</td>\n",
       "      <td>0.955556</td>\n",
       "      <td>0.955556</td>\n",
       "      <td>0.979365</td>\n",
       "      <td>0.932794</td>\n",
       "    </tr>\n",
       "    <tr>\n",
       "      <th>Recall Train</th>\n",
       "      <td>0.980952</td>\n",
       "      <td>0.980952</td>\n",
       "      <td>1.000000</td>\n",
       "      <td>1.000000</td>\n",
       "      <td>0.990476</td>\n",
       "      <td>1.000000</td>\n",
       "    </tr>\n",
       "    <tr>\n",
       "      <th>Recall Test</th>\n",
       "      <td>0.977778</td>\n",
       "      <td>0.977778</td>\n",
       "      <td>0.955556</td>\n",
       "      <td>0.955556</td>\n",
       "      <td>0.977778</td>\n",
       "      <td>0.933333</td>\n",
       "    </tr>\n",
       "    <tr>\n",
       "      <th>Accuracy Train</th>\n",
       "      <td>0.980952</td>\n",
       "      <td>0.980952</td>\n",
       "      <td>1.000000</td>\n",
       "      <td>1.000000</td>\n",
       "      <td>0.990476</td>\n",
       "      <td>1.000000</td>\n",
       "    </tr>\n",
       "    <tr>\n",
       "      <th>Accuracy Test</th>\n",
       "      <td>0.977778</td>\n",
       "      <td>0.977778</td>\n",
       "      <td>0.955556</td>\n",
       "      <td>0.955556</td>\n",
       "      <td>0.977778</td>\n",
       "      <td>0.933333</td>\n",
       "    </tr>\n",
       "    <tr>\n",
       "      <th>F1 macro Train</th>\n",
       "      <td>0.980931</td>\n",
       "      <td>0.980952</td>\n",
       "      <td>1.000000</td>\n",
       "      <td>1.000000</td>\n",
       "      <td>0.990473</td>\n",
       "      <td>1.000000</td>\n",
       "    </tr>\n",
       "    <tr>\n",
       "      <th>F1 macro Test</th>\n",
       "      <td>0.977778</td>\n",
       "      <td>0.977778</td>\n",
       "      <td>0.955556</td>\n",
       "      <td>0.955556</td>\n",
       "      <td>0.977778</td>\n",
       "      <td>0.932399</td>\n",
       "    </tr>\n",
       "  </tbody>\n",
       "</table>\n",
       "</div>"
      ],
      "text/plain": [
       "                 Logistic regression  Logistic regression tuned  \\\n",
       "Precision Train             0.981929                   0.980952   \n",
       "Precision Test              0.979365                   0.979365   \n",
       "Recall Train                0.980952                   0.980952   \n",
       "Recall Test                 0.977778                   0.977778   \n",
       "Accuracy Train              0.980952                   0.980952   \n",
       "Accuracy Test               0.977778                   0.977778   \n",
       "F1 macro Train              0.980931                   0.980952   \n",
       "F1 macro Test               0.977778                   0.977778   \n",
       "\n",
       "                 Decision Tree  Random Forest       SVM       XGB  \n",
       "Precision Train       1.000000       1.000000  0.990727  1.000000  \n",
       "Precision Test        0.955556       0.955556  0.979365  0.932794  \n",
       "Recall Train          1.000000       1.000000  0.990476  1.000000  \n",
       "Recall Test           0.955556       0.955556  0.977778  0.933333  \n",
       "Accuracy Train        1.000000       1.000000  0.990476  1.000000  \n",
       "Accuracy Test         0.955556       0.955556  0.977778  0.933333  \n",
       "F1 macro Train        1.000000       1.000000  0.990473  1.000000  \n",
       "F1 macro Test         0.955556       0.955556  0.977778  0.932399  "
      ]
     },
     "execution_count": 68,
     "metadata": {},
     "output_type": "execute_result"
    }
   ],
   "source": [
    "# Updated Evaluation metric Score Chart\n",
    "\n",
    "score['XGB'] = xgb_score\n",
    "score"
   ]
  },
  {
   "cell_type": "code",
   "execution_count": null,
   "id": "f1ddd5c5",
   "metadata": {},
   "outputs": [],
   "source": []
  },
  {
   "cell_type": "markdown",
   "id": "c2726a24",
   "metadata": {},
   "source": [
    "### Cross- Validation & Hyperparameter Tuning"
   ]
  },
  {
   "cell_type": "code",
   "execution_count": 69,
   "id": "1eac753b",
   "metadata": {},
   "outputs": [
    {
     "name": "stdout",
     "output_type": "stream",
     "text": [
      "Best hyperparameters:  {'n_estimators': 160, 'max_depth': 10, 'learning_rate': 0.04}\n"
     ]
    }
   ],
   "source": [
    "param_grid = {'learning_rate': np.arange(0.01, 0.3, 0.01),\n",
    "              'max_depth': np.arange(3, 15, 1),\n",
    "              'n_estimators': np.arange(100, 200, 10)}\n",
    "\n",
    "# Initialize the model\n",
    "xgb2 = xgb.XGBClassifier(random_state=0)\n",
    "\n",
    "# Repeated stratified kfold\n",
    "rskf = RepeatedStratifiedKFold(n_splits=3, n_repeats=3, random_state=0)\n",
    "\n",
    "# Initialize RandomizedSearchCV\n",
    "random_search = RandomizedSearchCV(xgb2, param_grid, n_iter=10, cv=rskf)\n",
    "\n",
    "# Fit the RandomizedSearchCV to the training data\n",
    "random_search.fit(x_train, y_train)\n",
    "\n",
    "# Select the best hyperparameters\n",
    "best_params = random_search.best_params_\n",
    "print(\"Best hyperparameters: \", best_params)"
   ]
  },
  {
   "cell_type": "code",
   "execution_count": 70,
   "id": "36ec8cbb",
   "metadata": {},
   "outputs": [],
   "source": [
    "# Initialize model with best parameters\n",
    "\n",
    "xgb_model2 = xgb.XGBClassifier(learning_rate = best_params['learning_rate'],\n",
    "                                 max_depth = best_params['max_depth'],\n",
    "                               n_estimators = best_params['n_estimators'],\n",
    "                                 random_state=0)"
   ]
  },
  {
   "cell_type": "code",
   "execution_count": 71,
   "id": "1a67258f",
   "metadata": {},
   "outputs": [
    {
     "name": "stdout",
     "output_type": "stream",
     "text": [
      "\n",
      "Confusion Matrix:\n"
     ]
    },
    {
     "data": {
      "image/png": "[encoded data removed]",
      "text/plain": [
       "<Figure size 1100x400 with 4 Axes>"
      ]
     },
     "metadata": {},
     "output_type": "display_data"
    },
    {
     "name": "stdout",
     "output_type": "stream",
     "text": [
      "\n",
      "Train Classification Report:\n",
      "|              |   precision |   recall |   f1-score |   support |\n",
      "|:-------------|------------:|---------:|-----------:|----------:|\n",
      "| 0            |           1 |        1 |          1 |        32 |\n",
      "| 1            |           1 |        1 |          1 |        36 |\n",
      "| 2            |           1 |        1 |          1 |        37 |\n",
      "| accuracy     |           1 |        1 |          1 |         1 |\n",
      "| macro avg    |           1 |        1 |          1 |       105 |\n",
      "| weighted avg |           1 |        1 |          1 |       105 |\n",
      "\n",
      "Test Classification Report:\n",
      "|              |   precision |   recall |   f1-score |   support |\n",
      "|:-------------|------------:|---------:|-----------:|----------:|\n",
      "| 0            |    0.947368 | 1        |   0.972973 | 18        |\n",
      "| 1            |    1        | 0.857143 |   0.923077 | 14        |\n",
      "| 2            |    0.928571 | 1        |   0.962963 | 13        |\n",
      "| accuracy     |    0.955556 | 0.955556 |   0.955556 |  0.955556 |\n",
      "| macro avg    |    0.958647 | 0.952381 |   0.953004 | 45        |\n",
      "| weighted avg |    0.958312 | 0.955556 |   0.954558 | 45        |\n"
     ]
    }
   ],
   "source": [
    "# Visualizing evaluation Metric Score chart\n",
    "\n",
    "xgb2_score = evaluate_model(xgb_model2, x_train, x_test, y_train, y_test)"
   ]
  },
  {
   "cell_type": "code",
   "execution_count": null,
   "id": "2ef98c81",
   "metadata": {},
   "outputs": [],
   "source": []
  },
  {
   "cell_type": "code",
   "execution_count": 72,
   "id": "a559ad06",
   "metadata": {},
   "outputs": [
    {
     "data": {
      "text/html": [
       "<div>\n",
       "<style scoped>\n",
       "    .dataframe tbody tr th:only-of-type {\n",
       "        vertical-align: middle;\n",
       "    }\n",
       "\n",
       "    .dataframe tbody tr th {\n",
       "        vertical-align: top;\n",
       "    }\n",
       "\n",
       "    .dataframe thead th {\n",
       "        text-align: right;\n",
       "    }\n",
       "</style>\n",
       "<table border=\"1\" class=\"dataframe\">\n",
       "  <thead>\n",
       "    <tr style=\"text-align: right;\">\n",
       "      <th></th>\n",
       "      <th>Logistic regression</th>\n",
       "      <th>Logistic regression tuned</th>\n",
       "      <th>Decision Tree</th>\n",
       "      <th>Random Forest</th>\n",
       "      <th>SVM</th>\n",
       "      <th>XGB</th>\n",
       "    </tr>\n",
       "  </thead>\n",
       "  <tbody>\n",
       "    <tr>\n",
       "      <th>Precision Train</th>\n",
       "      <td>0.981929</td>\n",
       "      <td>0.980952</td>\n",
       "      <td>1.000000</td>\n",
       "      <td>1.000000</td>\n",
       "      <td>0.990727</td>\n",
       "      <td>1.000000</td>\n",
       "    </tr>\n",
       "    <tr>\n",
       "      <th>Precision Test</th>\n",
       "      <td>0.979365</td>\n",
       "      <td>0.979365</td>\n",
       "      <td>0.955556</td>\n",
       "      <td>0.955556</td>\n",
       "      <td>0.979365</td>\n",
       "      <td>0.932794</td>\n",
       "    </tr>\n",
       "    <tr>\n",
       "      <th>Recall Train</th>\n",
       "      <td>0.980952</td>\n",
       "      <td>0.980952</td>\n",
       "      <td>1.000000</td>\n",
       "      <td>1.000000</td>\n",
       "      <td>0.990476</td>\n",
       "      <td>1.000000</td>\n",
       "    </tr>\n",
       "    <tr>\n",
       "      <th>Recall Test</th>\n",
       "      <td>0.977778</td>\n",
       "      <td>0.977778</td>\n",
       "      <td>0.955556</td>\n",
       "      <td>0.955556</td>\n",
       "      <td>0.977778</td>\n",
       "      <td>0.933333</td>\n",
       "    </tr>\n",
       "    <tr>\n",
       "      <th>Accuracy Train</th>\n",
       "      <td>0.980952</td>\n",
       "      <td>0.980952</td>\n",
       "      <td>1.000000</td>\n",
       "      <td>1.000000</td>\n",
       "      <td>0.990476</td>\n",
       "      <td>1.000000</td>\n",
       "    </tr>\n",
       "    <tr>\n",
       "      <th>Accuracy Test</th>\n",
       "      <td>0.977778</td>\n",
       "      <td>0.977778</td>\n",
       "      <td>0.955556</td>\n",
       "      <td>0.955556</td>\n",
       "      <td>0.977778</td>\n",
       "      <td>0.933333</td>\n",
       "    </tr>\n",
       "    <tr>\n",
       "      <th>F1 macro Train</th>\n",
       "      <td>0.980931</td>\n",
       "      <td>0.980952</td>\n",
       "      <td>1.000000</td>\n",
       "      <td>1.000000</td>\n",
       "      <td>0.990473</td>\n",
       "      <td>1.000000</td>\n",
       "    </tr>\n",
       "    <tr>\n",
       "      <th>F1 macro Test</th>\n",
       "      <td>0.977778</td>\n",
       "      <td>0.977778</td>\n",
       "      <td>0.955556</td>\n",
       "      <td>0.955556</td>\n",
       "      <td>0.977778</td>\n",
       "      <td>0.932399</td>\n",
       "    </tr>\n",
       "  </tbody>\n",
       "</table>\n",
       "</div>"
      ],
      "text/plain": [
       "                 Logistic regression  Logistic regression tuned  \\\n",
       "Precision Train             0.981929                   0.980952   \n",
       "Precision Test              0.979365                   0.979365   \n",
       "Recall Train                0.980952                   0.980952   \n",
       "Recall Test                 0.977778                   0.977778   \n",
       "Accuracy Train              0.980952                   0.980952   \n",
       "Accuracy Test               0.977778                   0.977778   \n",
       "F1 macro Train              0.980931                   0.980952   \n",
       "F1 macro Test               0.977778                   0.977778   \n",
       "\n",
       "                 Decision Tree  Random Forest       SVM       XGB  \n",
       "Precision Train       1.000000       1.000000  0.990727  1.000000  \n",
       "Precision Test        0.955556       0.955556  0.979365  0.932794  \n",
       "Recall Train          1.000000       1.000000  0.990476  1.000000  \n",
       "Recall Test           0.955556       0.955556  0.977778  0.933333  \n",
       "Accuracy Train        1.000000       1.000000  0.990476  1.000000  \n",
       "Accuracy Test         0.955556       0.955556  0.977778  0.933333  \n",
       "F1 macro Train        1.000000       1.000000  0.990473  1.000000  \n",
       "F1 macro Test         0.955556       0.955556  0.977778  0.932399  "
      ]
     },
     "execution_count": 72,
     "metadata": {},
     "output_type": "execute_result"
    }
   ],
   "source": [
    "# Updated Evaluation metric Score Chart\n",
    "score"
   ]
  },
  {
   "cell_type": "code",
   "execution_count": null,
   "id": "c6260be4",
   "metadata": {},
   "outputs": [],
   "source": []
  },
  {
   "cell_type": "markdown",
   "id": "17f86254",
   "metadata": {},
   "source": [
    "#### It appears that hyperparameter tuning did not improve the performance of the XGBoost model on the test set. \n",
    "\n",
    "#### The precision, recall, accuracy and F1 scores on the test set are same for both the untuned and tuned XGBoost models"
   ]
  },
  {
   "cell_type": "markdown",
   "id": "1861cf83",
   "metadata": {},
   "source": [
    "#### It appears that hyperparameter tuning did not improve the performance of the XGBoost model on the test set. \n",
    "\n",
    "#### The precision, recall, accuracy and F1 scores on the test set are same for both the untuned and tuned XGBoost models."
   ]
  },
  {
   "cell_type": "code",
   "execution_count": null,
   "id": "e3b60237",
   "metadata": {},
   "outputs": [],
   "source": []
  },
  {
   "cell_type": "markdown",
   "id": "f35cbd9f",
   "metadata": {},
   "source": [
    "## ML Model - 6 : Naive Bayes"
   ]
  },
  {
   "cell_type": "code",
   "execution_count": 73,
   "id": "f7dc843f",
   "metadata": {},
   "outputs": [],
   "source": [
    "nb_model = GaussianNB()"
   ]
  },
  {
   "cell_type": "code",
   "execution_count": 74,
   "id": "69497853",
   "metadata": {},
   "outputs": [
    {
     "name": "stdout",
     "output_type": "stream",
     "text": [
      "\n",
      "Confusion Matrix:\n"
     ]
    },
    {
     "data": {
      "image/png": "[encoded data removed]",
      "text/plain": [
       "<Figure size 1100x400 with 4 Axes>"
      ]
     },
     "metadata": {},
     "output_type": "display_data"
    },
    {
     "name": "stdout",
     "output_type": "stream",
     "text": [
      "\n",
      "Train Classification Report:\n",
      "|              |   precision |   recall |   f1-score |    support |\n",
      "|:-------------|------------:|---------:|-----------:|-----------:|\n",
      "| 0            |    1        | 1        |   1        |  32        |\n",
      "| 1            |    0.921053 | 0.972222 |   0.945946 |  36        |\n",
      "| 2            |    0.971429 | 0.918919 |   0.944444 |  37        |\n",
      "| accuracy     |    0.961905 | 0.961905 |   0.961905 |   0.961905 |\n",
      "| macro avg    |    0.96416  | 0.963714 |   0.963463 | 105        |\n",
      "| weighted avg |    0.962864 | 0.961905 |   0.96189  | 105        |\n",
      "\n",
      "Test Classification Report:\n",
      "|              |   precision |   recall |   f1-score |   support |\n",
      "|:-------------|------------:|---------:|-----------:|----------:|\n",
      "| 0            |    1        | 1        |   1        | 18        |\n",
      "| 1            |    1        | 0.857143 |   0.923077 | 14        |\n",
      "| 2            |    0.866667 | 1        |   0.928571 | 13        |\n",
      "| accuracy     |    0.955556 | 0.955556 |   0.955556 |  0.955556 |\n",
      "| macro avg    |    0.955556 | 0.952381 |   0.950549 | 45        |\n",
      "| weighted avg |    0.961481 | 0.955556 |   0.955433 | 45        |\n"
     ]
    }
   ],
   "source": [
    "# Visualizing evaluation Metric Score chart\n",
    "nb_score = evaluate_model(nb_model, x_train, x_test, y_train, y_test)"
   ]
  },
  {
   "cell_type": "code",
   "execution_count": null,
   "id": "71d72cdf",
   "metadata": {},
   "outputs": [],
   "source": []
  },
  {
   "cell_type": "code",
   "execution_count": 75,
   "id": "1cfd9cdd",
   "metadata": {},
   "outputs": [
    {
     "data": {
      "text/html": [
       "<div>\n",
       "<style scoped>\n",
       "    .dataframe tbody tr th:only-of-type {\n",
       "        vertical-align: middle;\n",
       "    }\n",
       "\n",
       "    .dataframe tbody tr th {\n",
       "        vertical-align: top;\n",
       "    }\n",
       "\n",
       "    .dataframe thead th {\n",
       "        text-align: right;\n",
       "    }\n",
       "</style>\n",
       "<table border=\"1\" class=\"dataframe\">\n",
       "  <thead>\n",
       "    <tr style=\"text-align: right;\">\n",
       "      <th></th>\n",
       "      <th>Logistic regression</th>\n",
       "      <th>Logistic regression tuned</th>\n",
       "      <th>Decision Tree</th>\n",
       "      <th>Random Forest</th>\n",
       "      <th>SVM</th>\n",
       "      <th>XGB</th>\n",
       "      <th>Naive Bayes</th>\n",
       "    </tr>\n",
       "  </thead>\n",
       "  <tbody>\n",
       "    <tr>\n",
       "      <th>Precision Train</th>\n",
       "      <td>0.981929</td>\n",
       "      <td>0.980952</td>\n",
       "      <td>1.000000</td>\n",
       "      <td>1.000000</td>\n",
       "      <td>0.990727</td>\n",
       "      <td>1.000000</td>\n",
       "      <td>0.962864</td>\n",
       "    </tr>\n",
       "    <tr>\n",
       "      <th>Precision Test</th>\n",
       "      <td>0.979365</td>\n",
       "      <td>0.979365</td>\n",
       "      <td>0.955556</td>\n",
       "      <td>0.955556</td>\n",
       "      <td>0.979365</td>\n",
       "      <td>0.932794</td>\n",
       "      <td>0.961481</td>\n",
       "    </tr>\n",
       "    <tr>\n",
       "      <th>Recall Train</th>\n",
       "      <td>0.980952</td>\n",
       "      <td>0.980952</td>\n",
       "      <td>1.000000</td>\n",
       "      <td>1.000000</td>\n",
       "      <td>0.990476</td>\n",
       "      <td>1.000000</td>\n",
       "      <td>0.961905</td>\n",
       "    </tr>\n",
       "    <tr>\n",
       "      <th>Recall Test</th>\n",
       "      <td>0.977778</td>\n",
       "      <td>0.977778</td>\n",
       "      <td>0.955556</td>\n",
       "      <td>0.955556</td>\n",
       "      <td>0.977778</td>\n",
       "      <td>0.933333</td>\n",
       "      <td>0.955556</td>\n",
       "    </tr>\n",
       "    <tr>\n",
       "      <th>Accuracy Train</th>\n",
       "      <td>0.980952</td>\n",
       "      <td>0.980952</td>\n",
       "      <td>1.000000</td>\n",
       "      <td>1.000000</td>\n",
       "      <td>0.990476</td>\n",
       "      <td>1.000000</td>\n",
       "      <td>0.961905</td>\n",
       "    </tr>\n",
       "    <tr>\n",
       "      <th>Accuracy Test</th>\n",
       "      <td>0.977778</td>\n",
       "      <td>0.977778</td>\n",
       "      <td>0.955556</td>\n",
       "      <td>0.955556</td>\n",
       "      <td>0.977778</td>\n",
       "      <td>0.933333</td>\n",
       "      <td>0.955556</td>\n",
       "    </tr>\n",
       "    <tr>\n",
       "      <th>F1 macro Train</th>\n",
       "      <td>0.980931</td>\n",
       "      <td>0.980952</td>\n",
       "      <td>1.000000</td>\n",
       "      <td>1.000000</td>\n",
       "      <td>0.990473</td>\n",
       "      <td>1.000000</td>\n",
       "      <td>0.961890</td>\n",
       "    </tr>\n",
       "    <tr>\n",
       "      <th>F1 macro Test</th>\n",
       "      <td>0.977778</td>\n",
       "      <td>0.977778</td>\n",
       "      <td>0.955556</td>\n",
       "      <td>0.955556</td>\n",
       "      <td>0.977778</td>\n",
       "      <td>0.932399</td>\n",
       "      <td>0.955433</td>\n",
       "    </tr>\n",
       "  </tbody>\n",
       "</table>\n",
       "</div>"
      ],
      "text/plain": [
       "                 Logistic regression  Logistic regression tuned  \\\n",
       "Precision Train             0.981929                   0.980952   \n",
       "Precision Test              0.979365                   0.979365   \n",
       "Recall Train                0.980952                   0.980952   \n",
       "Recall Test                 0.977778                   0.977778   \n",
       "Accuracy Train              0.980952                   0.980952   \n",
       "Accuracy Test               0.977778                   0.977778   \n",
       "F1 macro Train              0.980931                   0.980952   \n",
       "F1 macro Test               0.977778                   0.977778   \n",
       "\n",
       "                 Decision Tree  Random Forest       SVM       XGB  Naive Bayes  \n",
       "Precision Train       1.000000       1.000000  0.990727  1.000000     0.962864  \n",
       "Precision Test        0.955556       0.955556  0.979365  0.932794     0.961481  \n",
       "Recall Train          1.000000       1.000000  0.990476  1.000000     0.961905  \n",
       "Recall Test           0.955556       0.955556  0.977778  0.933333     0.955556  \n",
       "Accuracy Train        1.000000       1.000000  0.990476  1.000000     0.961905  \n",
       "Accuracy Test         0.955556       0.955556  0.977778  0.933333     0.955556  \n",
       "F1 macro Train        1.000000       1.000000  0.990473  1.000000     0.961890  \n",
       "F1 macro Test         0.955556       0.955556  0.977778  0.932399     0.955433  "
      ]
     },
     "execution_count": 75,
     "metadata": {},
     "output_type": "execute_result"
    }
   ],
   "source": [
    "# Updated Evaluation metric Score Chart\n",
    "score['Naive Bayes'] = nb_score\n",
    "score"
   ]
  },
  {
   "cell_type": "code",
   "execution_count": null,
   "id": "6ddb67c0",
   "metadata": {},
   "outputs": [],
   "source": []
  },
  {
   "cell_type": "markdown",
   "id": "75d6e97a",
   "metadata": {},
   "source": [
    "### Cross- Validation & Hyperparameter Tuning"
   ]
  },
  {
   "cell_type": "code",
   "execution_count": 76,
   "id": "a22af211",
   "metadata": {},
   "outputs": [
    {
     "name": "stdout",
     "output_type": "stream",
     "text": [
      "Best hyperparameters:  {'var_smoothing': 0.008111308307896872}\n"
     ]
    }
   ],
   "source": [
    "param_grid = {'var_smoothing': np.logspace(0,-9, num=100)}\n",
    "\n",
    "# Initialize the model\n",
    "naive = GaussianNB()\n",
    "\n",
    "# repeated stratified kfold\n",
    "rskf = RepeatedStratifiedKFold(n_splits=4, n_repeats=4, random_state=0)\n",
    "\n",
    "# Initialize GridSearchCV\n",
    "GridSearch = GridSearchCV(naive, param_grid, cv=rskf, n_jobs=-1)\n",
    "\n",
    "# Fit the GridSearchCV to the training data\n",
    "GridSearch.fit(x_train, y_train)\n",
    "\n",
    "# Select the best hyperparameters\n",
    "best_params = GridSearch.best_params_\n",
    "print(\"Best hyperparameters: \", best_params)"
   ]
  },
  {
   "cell_type": "code",
   "execution_count": 77,
   "id": "815912f9",
   "metadata": {},
   "outputs": [],
   "source": [
    "# Initiate model with best parameters\n",
    "\n",
    "nb_model2 = GaussianNB(var_smoothing = best_params['var_smoothing'])"
   ]
  },
  {
   "cell_type": "code",
   "execution_count": 78,
   "id": "d057fa18",
   "metadata": {},
   "outputs": [
    {
     "name": "stdout",
     "output_type": "stream",
     "text": [
      "\n",
      "Confusion Matrix:\n"
     ]
    },
    {
     "data": {
      "image/png": "[encoded data removed]",
      "text/plain": [
       "<Figure size 1100x400 with 4 Axes>"
      ]
     },
     "metadata": {},
     "output_type": "display_data"
    },
    {
     "name": "stdout",
     "output_type": "stream",
     "text": [
      "\n",
      "Train Classification Report:\n",
      "|              |   precision |   recall |   f1-score |    support |\n",
      "|:-------------|------------:|---------:|-----------:|-----------:|\n",
      "| 0            |    1        | 1        |   1        |  32        |\n",
      "| 1            |    0.921053 | 0.972222 |   0.945946 |  36        |\n",
      "| 2            |    0.971429 | 0.918919 |   0.944444 |  37        |\n",
      "| accuracy     |    0.961905 | 0.961905 |   0.961905 |   0.961905 |\n",
      "| macro avg    |    0.96416  | 0.963714 |   0.963463 | 105        |\n",
      "| weighted avg |    0.962864 | 0.961905 |   0.96189  | 105        |\n",
      "\n",
      "Test Classification Report:\n",
      "|              |   precision |   recall |   f1-score |   support |\n",
      "|:-------------|------------:|---------:|-----------:|----------:|\n",
      "| 0            |    1        | 1        |   1        | 18        |\n",
      "| 1            |    1        | 0.857143 |   0.923077 | 14        |\n",
      "| 2            |    0.866667 | 1        |   0.928571 | 13        |\n",
      "| accuracy     |    0.955556 | 0.955556 |   0.955556 |  0.955556 |\n",
      "| macro avg    |    0.955556 | 0.952381 |   0.950549 | 45        |\n",
      "| weighted avg |    0.961481 | 0.955556 |   0.955433 | 45        |\n"
     ]
    }
   ],
   "source": [
    "# Visualizing evaluation Metric Score chart\n",
    "\n",
    "nb2_score = evaluate_model(nb_model2, x_train, x_test, y_train, y_test)"
   ]
  },
  {
   "cell_type": "code",
   "execution_count": null,
   "id": "8eeb586f",
   "metadata": {},
   "outputs": [],
   "source": []
  },
  {
   "cell_type": "code",
   "execution_count": 79,
   "id": "84c46c4d",
   "metadata": {},
   "outputs": [],
   "source": [
    "score['Naive Bayes tuned']= nb2_score"
   ]
  },
  {
   "cell_type": "code",
   "execution_count": null,
   "id": "b091c287",
   "metadata": {},
   "outputs": [],
   "source": []
  },
  {
   "cell_type": "code",
   "execution_count": 80,
   "id": "fd2332f1",
   "metadata": {},
   "outputs": [
    {
     "data": {
      "text/html": [
       "<div>\n",
       "<style scoped>\n",
       "    .dataframe tbody tr th:only-of-type {\n",
       "        vertical-align: middle;\n",
       "    }\n",
       "\n",
       "    .dataframe tbody tr th {\n",
       "        vertical-align: top;\n",
       "    }\n",
       "\n",
       "    .dataframe thead th {\n",
       "        text-align: right;\n",
       "    }\n",
       "</style>\n",
       "<table border=\"1\" class=\"dataframe\">\n",
       "  <thead>\n",
       "    <tr style=\"text-align: right;\">\n",
       "      <th></th>\n",
       "      <th>Logistic regression</th>\n",
       "      <th>Logistic regression tuned</th>\n",
       "      <th>Decision Tree</th>\n",
       "      <th>Random Forest</th>\n",
       "      <th>SVM</th>\n",
       "      <th>XGB</th>\n",
       "      <th>Naive Bayes</th>\n",
       "      <th>Naive Bayes tuned</th>\n",
       "    </tr>\n",
       "  </thead>\n",
       "  <tbody>\n",
       "    <tr>\n",
       "      <th>Precision Train</th>\n",
       "      <td>0.981929</td>\n",
       "      <td>0.980952</td>\n",
       "      <td>1.000000</td>\n",
       "      <td>1.000000</td>\n",
       "      <td>0.990727</td>\n",
       "      <td>1.000000</td>\n",
       "      <td>0.962864</td>\n",
       "      <td>0.962864</td>\n",
       "    </tr>\n",
       "    <tr>\n",
       "      <th>Precision Test</th>\n",
       "      <td>0.979365</td>\n",
       "      <td>0.979365</td>\n",
       "      <td>0.955556</td>\n",
       "      <td>0.955556</td>\n",
       "      <td>0.979365</td>\n",
       "      <td>0.932794</td>\n",
       "      <td>0.961481</td>\n",
       "      <td>0.961481</td>\n",
       "    </tr>\n",
       "    <tr>\n",
       "      <th>Recall Train</th>\n",
       "      <td>0.980952</td>\n",
       "      <td>0.980952</td>\n",
       "      <td>1.000000</td>\n",
       "      <td>1.000000</td>\n",
       "      <td>0.990476</td>\n",
       "      <td>1.000000</td>\n",
       "      <td>0.961905</td>\n",
       "      <td>0.961905</td>\n",
       "    </tr>\n",
       "    <tr>\n",
       "      <th>Recall Test</th>\n",
       "      <td>0.977778</td>\n",
       "      <td>0.977778</td>\n",
       "      <td>0.955556</td>\n",
       "      <td>0.955556</td>\n",
       "      <td>0.977778</td>\n",
       "      <td>0.933333</td>\n",
       "      <td>0.955556</td>\n",
       "      <td>0.955556</td>\n",
       "    </tr>\n",
       "    <tr>\n",
       "      <th>Accuracy Train</th>\n",
       "      <td>0.980952</td>\n",
       "      <td>0.980952</td>\n",
       "      <td>1.000000</td>\n",
       "      <td>1.000000</td>\n",
       "      <td>0.990476</td>\n",
       "      <td>1.000000</td>\n",
       "      <td>0.961905</td>\n",
       "      <td>0.961905</td>\n",
       "    </tr>\n",
       "    <tr>\n",
       "      <th>Accuracy Test</th>\n",
       "      <td>0.977778</td>\n",
       "      <td>0.977778</td>\n",
       "      <td>0.955556</td>\n",
       "      <td>0.955556</td>\n",
       "      <td>0.977778</td>\n",
       "      <td>0.933333</td>\n",
       "      <td>0.955556</td>\n",
       "      <td>0.955556</td>\n",
       "    </tr>\n",
       "    <tr>\n",
       "      <th>F1 macro Train</th>\n",
       "      <td>0.980931</td>\n",
       "      <td>0.980952</td>\n",
       "      <td>1.000000</td>\n",
       "      <td>1.000000</td>\n",
       "      <td>0.990473</td>\n",
       "      <td>1.000000</td>\n",
       "      <td>0.961890</td>\n",
       "      <td>0.961890</td>\n",
       "    </tr>\n",
       "    <tr>\n",
       "      <th>F1 macro Test</th>\n",
       "      <td>0.977778</td>\n",
       "      <td>0.977778</td>\n",
       "      <td>0.955556</td>\n",
       "      <td>0.955556</td>\n",
       "      <td>0.977778</td>\n",
       "      <td>0.932399</td>\n",
       "      <td>0.955433</td>\n",
       "      <td>0.955433</td>\n",
       "    </tr>\n",
       "  </tbody>\n",
       "</table>\n",
       "</div>"
      ],
      "text/plain": [
       "                 Logistic regression  Logistic regression tuned  \\\n",
       "Precision Train             0.981929                   0.980952   \n",
       "Precision Test              0.979365                   0.979365   \n",
       "Recall Train                0.980952                   0.980952   \n",
       "Recall Test                 0.977778                   0.977778   \n",
       "Accuracy Train              0.980952                   0.980952   \n",
       "Accuracy Test               0.977778                   0.977778   \n",
       "F1 macro Train              0.980931                   0.980952   \n",
       "F1 macro Test               0.977778                   0.977778   \n",
       "\n",
       "                 Decision Tree  Random Forest       SVM       XGB  \\\n",
       "Precision Train       1.000000       1.000000  0.990727  1.000000   \n",
       "Precision Test        0.955556       0.955556  0.979365  0.932794   \n",
       "Recall Train          1.000000       1.000000  0.990476  1.000000   \n",
       "Recall Test           0.955556       0.955556  0.977778  0.933333   \n",
       "Accuracy Train        1.000000       1.000000  0.990476  1.000000   \n",
       "Accuracy Test         0.955556       0.955556  0.977778  0.933333   \n",
       "F1 macro Train        1.000000       1.000000  0.990473  1.000000   \n",
       "F1 macro Test         0.955556       0.955556  0.977778  0.932399   \n",
       "\n",
       "                 Naive Bayes  Naive Bayes tuned  \n",
       "Precision Train     0.962864           0.962864  \n",
       "Precision Test      0.961481           0.961481  \n",
       "Recall Train        0.961905           0.961905  \n",
       "Recall Test         0.955556           0.955556  \n",
       "Accuracy Train      0.961905           0.961905  \n",
       "Accuracy Test       0.955556           0.955556  \n",
       "F1 macro Train      0.961890           0.961890  \n",
       "F1 macro Test       0.955433           0.955433  "
      ]
     },
     "execution_count": 80,
     "metadata": {},
     "output_type": "execute_result"
    }
   ],
   "source": [
    "# Updated Evaluation metric Score Chart\n",
    "score"
   ]
  },
  {
   "cell_type": "code",
   "execution_count": null,
   "id": "1d1c69aa",
   "metadata": {},
   "outputs": [],
   "source": []
  },
  {
   "cell_type": "markdown",
   "id": "962724dd",
   "metadata": {},
   "source": [
    "#### It appears that hyperparameter tuning did not improved the performance of the Naive Bayes model on the test set.\n",
    "\n",
    "#### The tuned Naive Bayes model has precision, recall, accuracy and F1 score on the test set as same as in the untuned Naive Bayes model."
   ]
  },
  {
   "cell_type": "code",
   "execution_count": null,
   "id": "0576cff9",
   "metadata": {},
   "outputs": [],
   "source": []
  },
  {
   "cell_type": "markdown",
   "id": "14c1bf18",
   "metadata": {},
   "source": [
    "## ML Model - 7 : Neural Network"
   ]
  },
  {
   "cell_type": "code",
   "execution_count": 82,
   "id": "b71816cd",
   "metadata": {},
   "outputs": [],
   "source": [
    "nn_model = MLPClassifier(random_state=0)"
   ]
  },
  {
   "cell_type": "code",
   "execution_count": 83,
   "id": "2389ae8e",
   "metadata": {},
   "outputs": [
    {
     "name": "stdout",
     "output_type": "stream",
     "text": [
      "\n",
      "Confusion Matrix:\n"
     ]
    },
    {
     "data": {
      "image/png": "[encoded data removed]",
      "text/plain": [
       "<Figure size 1100x400 with 4 Axes>"
      ]
     },
     "metadata": {},
     "output_type": "display_data"
    },
    {
     "name": "stdout",
     "output_type": "stream",
     "text": [
      "\n",
      "Train Classification Report:\n",
      "|              |   precision |   recall |   f1-score |    support |\n",
      "|:-------------|------------:|---------:|-----------:|-----------:|\n",
      "| 0            |    1        | 1        |   1        |  32        |\n",
      "| 1            |    1        | 0.916667 |   0.956522 |  36        |\n",
      "| 2            |    0.925    | 1        |   0.961039 |  37        |\n",
      "| accuracy     |    0.971429 | 0.971429 |   0.971429 |   0.971429 |\n",
      "| macro avg    |    0.975    | 0.972222 |   0.97252  | 105        |\n",
      "| weighted avg |    0.973571 | 0.971429 |   0.971364 | 105        |\n",
      "\n",
      "Test Classification Report:\n",
      "|              |   precision |   recall |   f1-score |   support |\n",
      "|:-------------|------------:|---------:|-----------:|----------:|\n",
      "| 0            |    1        | 1        |   1        | 18        |\n",
      "| 1            |    1        | 0.928571 |   0.962963 | 14        |\n",
      "| 2            |    0.928571 | 1        |   0.962963 | 13        |\n",
      "| accuracy     |    0.977778 | 0.977778 |   0.977778 |  0.977778 |\n",
      "| macro avg    |    0.97619  | 0.97619  |   0.975309 | 45        |\n",
      "| weighted avg |    0.979365 | 0.977778 |   0.977778 | 45        |\n"
     ]
    }
   ],
   "source": [
    "# Visualizing evaluation Metric Score chart\n",
    "neural_score = evaluate_model(nn_model, x_train, x_test, y_train, y_test)"
   ]
  },
  {
   "cell_type": "code",
   "execution_count": null,
   "id": "9f57016a",
   "metadata": {},
   "outputs": [],
   "source": []
  },
  {
   "cell_type": "code",
   "execution_count": 84,
   "id": "eb3cfcbd",
   "metadata": {},
   "outputs": [
    {
     "data": {
      "text/html": [
       "<div>\n",
       "<style scoped>\n",
       "    .dataframe tbody tr th:only-of-type {\n",
       "        vertical-align: middle;\n",
       "    }\n",
       "\n",
       "    .dataframe tbody tr th {\n",
       "        vertical-align: top;\n",
       "    }\n",
       "\n",
       "    .dataframe thead th {\n",
       "        text-align: right;\n",
       "    }\n",
       "</style>\n",
       "<table border=\"1\" class=\"dataframe\">\n",
       "  <thead>\n",
       "    <tr style=\"text-align: right;\">\n",
       "      <th></th>\n",
       "      <th>Logistic regression</th>\n",
       "      <th>Logistic regression tuned</th>\n",
       "      <th>Decision Tree</th>\n",
       "      <th>Random Forest</th>\n",
       "      <th>SVM</th>\n",
       "      <th>XGB</th>\n",
       "      <th>Naive Bayes</th>\n",
       "      <th>Naive Bayes tuned</th>\n",
       "      <th>Neural Network</th>\n",
       "    </tr>\n",
       "  </thead>\n",
       "  <tbody>\n",
       "    <tr>\n",
       "      <th>Precision Train</th>\n",
       "      <td>0.981929</td>\n",
       "      <td>0.980952</td>\n",
       "      <td>1.000000</td>\n",
       "      <td>1.000000</td>\n",
       "      <td>0.990727</td>\n",
       "      <td>1.000000</td>\n",
       "      <td>0.962864</td>\n",
       "      <td>0.962864</td>\n",
       "      <td>0.973571</td>\n",
       "    </tr>\n",
       "    <tr>\n",
       "      <th>Precision Test</th>\n",
       "      <td>0.979365</td>\n",
       "      <td>0.979365</td>\n",
       "      <td>0.955556</td>\n",
       "      <td>0.955556</td>\n",
       "      <td>0.979365</td>\n",
       "      <td>0.932794</td>\n",
       "      <td>0.961481</td>\n",
       "      <td>0.961481</td>\n",
       "      <td>0.979365</td>\n",
       "    </tr>\n",
       "    <tr>\n",
       "      <th>Recall Train</th>\n",
       "      <td>0.980952</td>\n",
       "      <td>0.980952</td>\n",
       "      <td>1.000000</td>\n",
       "      <td>1.000000</td>\n",
       "      <td>0.990476</td>\n",
       "      <td>1.000000</td>\n",
       "      <td>0.961905</td>\n",
       "      <td>0.961905</td>\n",
       "      <td>0.971429</td>\n",
       "    </tr>\n",
       "    <tr>\n",
       "      <th>Recall Test</th>\n",
       "      <td>0.977778</td>\n",
       "      <td>0.977778</td>\n",
       "      <td>0.955556</td>\n",
       "      <td>0.955556</td>\n",
       "      <td>0.977778</td>\n",
       "      <td>0.933333</td>\n",
       "      <td>0.955556</td>\n",
       "      <td>0.955556</td>\n",
       "      <td>0.977778</td>\n",
       "    </tr>\n",
       "    <tr>\n",
       "      <th>Accuracy Train</th>\n",
       "      <td>0.980952</td>\n",
       "      <td>0.980952</td>\n",
       "      <td>1.000000</td>\n",
       "      <td>1.000000</td>\n",
       "      <td>0.990476</td>\n",
       "      <td>1.000000</td>\n",
       "      <td>0.961905</td>\n",
       "      <td>0.961905</td>\n",
       "      <td>0.971429</td>\n",
       "    </tr>\n",
       "    <tr>\n",
       "      <th>Accuracy Test</th>\n",
       "      <td>0.977778</td>\n",
       "      <td>0.977778</td>\n",
       "      <td>0.955556</td>\n",
       "      <td>0.955556</td>\n",
       "      <td>0.977778</td>\n",
       "      <td>0.933333</td>\n",
       "      <td>0.955556</td>\n",
       "      <td>0.955556</td>\n",
       "      <td>0.977778</td>\n",
       "    </tr>\n",
       "    <tr>\n",
       "      <th>F1 macro Train</th>\n",
       "      <td>0.980931</td>\n",
       "      <td>0.980952</td>\n",
       "      <td>1.000000</td>\n",
       "      <td>1.000000</td>\n",
       "      <td>0.990473</td>\n",
       "      <td>1.000000</td>\n",
       "      <td>0.961890</td>\n",
       "      <td>0.961890</td>\n",
       "      <td>0.971364</td>\n",
       "    </tr>\n",
       "    <tr>\n",
       "      <th>F1 macro Test</th>\n",
       "      <td>0.977778</td>\n",
       "      <td>0.977778</td>\n",
       "      <td>0.955556</td>\n",
       "      <td>0.955556</td>\n",
       "      <td>0.977778</td>\n",
       "      <td>0.932399</td>\n",
       "      <td>0.955433</td>\n",
       "      <td>0.955433</td>\n",
       "      <td>0.977778</td>\n",
       "    </tr>\n",
       "  </tbody>\n",
       "</table>\n",
       "</div>"
      ],
      "text/plain": [
       "                 Logistic regression  Logistic regression tuned  \\\n",
       "Precision Train             0.981929                   0.980952   \n",
       "Precision Test              0.979365                   0.979365   \n",
       "Recall Train                0.980952                   0.980952   \n",
       "Recall Test                 0.977778                   0.977778   \n",
       "Accuracy Train              0.980952                   0.980952   \n",
       "Accuracy Test               0.977778                   0.977778   \n",
       "F1 macro Train              0.980931                   0.980952   \n",
       "F1 macro Test               0.977778                   0.977778   \n",
       "\n",
       "                 Decision Tree  Random Forest       SVM       XGB  \\\n",
       "Precision Train       1.000000       1.000000  0.990727  1.000000   \n",
       "Precision Test        0.955556       0.955556  0.979365  0.932794   \n",
       "Recall Train          1.000000       1.000000  0.990476  1.000000   \n",
       "Recall Test           0.955556       0.955556  0.977778  0.933333   \n",
       "Accuracy Train        1.000000       1.000000  0.990476  1.000000   \n",
       "Accuracy Test         0.955556       0.955556  0.977778  0.933333   \n",
       "F1 macro Train        1.000000       1.000000  0.990473  1.000000   \n",
       "F1 macro Test         0.955556       0.955556  0.977778  0.932399   \n",
       "\n",
       "                 Naive Bayes  Naive Bayes tuned  Neural Network  \n",
       "Precision Train     0.962864           0.962864        0.973571  \n",
       "Precision Test      0.961481           0.961481        0.979365  \n",
       "Recall Train        0.961905           0.961905        0.971429  \n",
       "Recall Test         0.955556           0.955556        0.977778  \n",
       "Accuracy Train      0.961905           0.961905        0.971429  \n",
       "Accuracy Test       0.955556           0.955556        0.977778  \n",
       "F1 macro Train      0.961890           0.961890        0.971364  \n",
       "F1 macro Test       0.955433           0.955433        0.977778  "
      ]
     },
     "execution_count": 84,
     "metadata": {},
     "output_type": "execute_result"
    }
   ],
   "source": [
    "# Updated Evaluation metric Score Chart\n",
    "score['Neural Network'] = neural_score\n",
    "score"
   ]
  },
  {
   "cell_type": "code",
   "execution_count": null,
   "id": "cea2e803",
   "metadata": {},
   "outputs": [],
   "source": []
  },
  {
   "cell_type": "markdown",
   "id": "96918e6f",
   "metadata": {},
   "source": [
    "### Cross- Validation & Hyperparameter Tuning"
   ]
  },
  {
   "cell_type": "code",
   "execution_count": 85,
   "id": "10a20dea",
   "metadata": {},
   "outputs": [
    {
     "name": "stdout",
     "output_type": "stream",
     "text": [
      "Best hyperparameters:  {'hidden_layer_sizes': 90, 'alpha': 0.0097}\n"
     ]
    }
   ],
   "source": [
    "param_grid = {'hidden_layer_sizes': np.arange(10, 100, 10),\n",
    "              'alpha': np.arange(0.0001, 0.01, 0.0001)}\n",
    "\n",
    "# Initialize the model\n",
    "neural = MLPClassifier(random_state=0)\n",
    "\n",
    "# Repeated stratified kfold\n",
    "rskf = RepeatedStratifiedKFold(n_splits=3, n_repeats=3, random_state=0)\n",
    "\n",
    "# Initialize RandomizedSearchCV\n",
    "random_search = RandomizedSearchCV(neural, param_grid, n_iter=10, cv=rskf, n_jobs=-1)\n",
    "\n",
    "# Fit the RandomizedSearchCV to the training data\n",
    "random_search.fit(x_train, y_train)\n",
    "\n",
    "# Select the best hyperparameters\n",
    "best_params = random_search.best_params_\n",
    "print(\"Best hyperparameters: \", best_params)"
   ]
  },
  {
   "cell_type": "code",
   "execution_count": 86,
   "id": "2c565575",
   "metadata": {},
   "outputs": [],
   "source": [
    "# Initiate model with best parameters\n",
    "nn_model2 = MLPClassifier(hidden_layer_sizes = best_params['hidden_layer_sizes'],\n",
    "                        alpha = best_params['alpha'],\n",
    "                        random_state = 0)"
   ]
  },
  {
   "cell_type": "code",
   "execution_count": 87,
   "id": "d2191268",
   "metadata": {},
   "outputs": [
    {
     "name": "stdout",
     "output_type": "stream",
     "text": [
      "\n",
      "Confusion Matrix:\n"
     ]
    },
    {
     "data": {
      "image/png": "[encoded data removed]",
      "text/plain": [
       "<Figure size 1100x400 with 4 Axes>"
      ]
     },
     "metadata": {},
     "output_type": "display_data"
    },
    {
     "name": "stdout",
     "output_type": "stream",
     "text": [
      "\n",
      "Train Classification Report:\n",
      "|              |   precision |   recall |   f1-score |    support |\n",
      "|:-------------|------------:|---------:|-----------:|-----------:|\n",
      "| 0            |    1        | 1        |   1        |  32        |\n",
      "| 1            |    1        | 0.944444 |   0.971429 |  36        |\n",
      "| 2            |    0.948718 | 1        |   0.973684 |  37        |\n",
      "| accuracy     |    0.980952 | 0.980952 |   0.980952 |   0.980952 |\n",
      "| macro avg    |    0.982906 | 0.981481 |   0.981704 | 105        |\n",
      "| weighted avg |    0.981929 | 0.980952 |   0.980931 | 105        |\n",
      "\n",
      "Test Classification Report:\n",
      "|              |   precision |   recall |   f1-score |   support |\n",
      "|:-------------|------------:|---------:|-----------:|----------:|\n",
      "| 0            |    1        | 1        |   1        | 18        |\n",
      "| 1            |    1        | 0.928571 |   0.962963 | 14        |\n",
      "| 2            |    0.928571 | 1        |   0.962963 | 13        |\n",
      "| accuracy     |    0.977778 | 0.977778 |   0.977778 |  0.977778 |\n",
      "| macro avg    |    0.97619  | 0.97619  |   0.975309 | 45        |\n",
      "| weighted avg |    0.979365 | 0.977778 |   0.977778 | 45        |\n"
     ]
    }
   ],
   "source": [
    "# Visualizing evaluation Metric Score chart\n",
    "neural2_score = evaluate_model(nn_model2, x_train, x_test, y_train, y_test)"
   ]
  },
  {
   "cell_type": "code",
   "execution_count": null,
   "id": "91d55a71",
   "metadata": {},
   "outputs": [],
   "source": []
  },
  {
   "cell_type": "code",
   "execution_count": 88,
   "id": "067b1598",
   "metadata": {},
   "outputs": [
    {
     "data": {
      "text/html": [
       "<div>\n",
       "<style scoped>\n",
       "    .dataframe tbody tr th:only-of-type {\n",
       "        vertical-align: middle;\n",
       "    }\n",
       "\n",
       "    .dataframe tbody tr th {\n",
       "        vertical-align: top;\n",
       "    }\n",
       "\n",
       "    .dataframe thead th {\n",
       "        text-align: right;\n",
       "    }\n",
       "</style>\n",
       "<table border=\"1\" class=\"dataframe\">\n",
       "  <thead>\n",
       "    <tr style=\"text-align: right;\">\n",
       "      <th></th>\n",
       "      <th>Logistic regression</th>\n",
       "      <th>Logistic regression tuned</th>\n",
       "      <th>Decision Tree</th>\n",
       "      <th>Random Forest</th>\n",
       "      <th>SVM</th>\n",
       "      <th>XGB</th>\n",
       "      <th>Naive Bayes</th>\n",
       "      <th>Naive Bayes tuned</th>\n",
       "      <th>Neural Network</th>\n",
       "    </tr>\n",
       "  </thead>\n",
       "  <tbody>\n",
       "    <tr>\n",
       "      <th>Precision Train</th>\n",
       "      <td>0.981929</td>\n",
       "      <td>0.980952</td>\n",
       "      <td>1.000000</td>\n",
       "      <td>1.000000</td>\n",
       "      <td>0.990727</td>\n",
       "      <td>1.000000</td>\n",
       "      <td>0.962864</td>\n",
       "      <td>0.962864</td>\n",
       "      <td>0.973571</td>\n",
       "    </tr>\n",
       "    <tr>\n",
       "      <th>Precision Test</th>\n",
       "      <td>0.979365</td>\n",
       "      <td>0.979365</td>\n",
       "      <td>0.955556</td>\n",
       "      <td>0.955556</td>\n",
       "      <td>0.979365</td>\n",
       "      <td>0.932794</td>\n",
       "      <td>0.961481</td>\n",
       "      <td>0.961481</td>\n",
       "      <td>0.979365</td>\n",
       "    </tr>\n",
       "    <tr>\n",
       "      <th>Recall Train</th>\n",
       "      <td>0.980952</td>\n",
       "      <td>0.980952</td>\n",
       "      <td>1.000000</td>\n",
       "      <td>1.000000</td>\n",
       "      <td>0.990476</td>\n",
       "      <td>1.000000</td>\n",
       "      <td>0.961905</td>\n",
       "      <td>0.961905</td>\n",
       "      <td>0.971429</td>\n",
       "    </tr>\n",
       "    <tr>\n",
       "      <th>Recall Test</th>\n",
       "      <td>0.977778</td>\n",
       "      <td>0.977778</td>\n",
       "      <td>0.955556</td>\n",
       "      <td>0.955556</td>\n",
       "      <td>0.977778</td>\n",
       "      <td>0.933333</td>\n",
       "      <td>0.955556</td>\n",
       "      <td>0.955556</td>\n",
       "      <td>0.977778</td>\n",
       "    </tr>\n",
       "    <tr>\n",
       "      <th>Accuracy Train</th>\n",
       "      <td>0.980952</td>\n",
       "      <td>0.980952</td>\n",
       "      <td>1.000000</td>\n",
       "      <td>1.000000</td>\n",
       "      <td>0.990476</td>\n",
       "      <td>1.000000</td>\n",
       "      <td>0.961905</td>\n",
       "      <td>0.961905</td>\n",
       "      <td>0.971429</td>\n",
       "    </tr>\n",
       "    <tr>\n",
       "      <th>Accuracy Test</th>\n",
       "      <td>0.977778</td>\n",
       "      <td>0.977778</td>\n",
       "      <td>0.955556</td>\n",
       "      <td>0.955556</td>\n",
       "      <td>0.977778</td>\n",
       "      <td>0.933333</td>\n",
       "      <td>0.955556</td>\n",
       "      <td>0.955556</td>\n",
       "      <td>0.977778</td>\n",
       "    </tr>\n",
       "    <tr>\n",
       "      <th>F1 macro Train</th>\n",
       "      <td>0.980931</td>\n",
       "      <td>0.980952</td>\n",
       "      <td>1.000000</td>\n",
       "      <td>1.000000</td>\n",
       "      <td>0.990473</td>\n",
       "      <td>1.000000</td>\n",
       "      <td>0.961890</td>\n",
       "      <td>0.961890</td>\n",
       "      <td>0.971364</td>\n",
       "    </tr>\n",
       "    <tr>\n",
       "      <th>F1 macro Test</th>\n",
       "      <td>0.977778</td>\n",
       "      <td>0.977778</td>\n",
       "      <td>0.955556</td>\n",
       "      <td>0.955556</td>\n",
       "      <td>0.977778</td>\n",
       "      <td>0.932399</td>\n",
       "      <td>0.955433</td>\n",
       "      <td>0.955433</td>\n",
       "      <td>0.977778</td>\n",
       "    </tr>\n",
       "  </tbody>\n",
       "</table>\n",
       "</div>"
      ],
      "text/plain": [
       "                 Logistic regression  Logistic regression tuned  \\\n",
       "Precision Train             0.981929                   0.980952   \n",
       "Precision Test              0.979365                   0.979365   \n",
       "Recall Train                0.980952                   0.980952   \n",
       "Recall Test                 0.977778                   0.977778   \n",
       "Accuracy Train              0.980952                   0.980952   \n",
       "Accuracy Test               0.977778                   0.977778   \n",
       "F1 macro Train              0.980931                   0.980952   \n",
       "F1 macro Test               0.977778                   0.977778   \n",
       "\n",
       "                 Decision Tree  Random Forest       SVM       XGB  \\\n",
       "Precision Train       1.000000       1.000000  0.990727  1.000000   \n",
       "Precision Test        0.955556       0.955556  0.979365  0.932794   \n",
       "Recall Train          1.000000       1.000000  0.990476  1.000000   \n",
       "Recall Test           0.955556       0.955556  0.977778  0.933333   \n",
       "Accuracy Train        1.000000       1.000000  0.990476  1.000000   \n",
       "Accuracy Test         0.955556       0.955556  0.977778  0.933333   \n",
       "F1 macro Train        1.000000       1.000000  0.990473  1.000000   \n",
       "F1 macro Test         0.955556       0.955556  0.977778  0.932399   \n",
       "\n",
       "                 Naive Bayes  Naive Bayes tuned  Neural Network  \n",
       "Precision Train     0.962864           0.962864        0.973571  \n",
       "Precision Test      0.961481           0.961481        0.979365  \n",
       "Recall Train        0.961905           0.961905        0.971429  \n",
       "Recall Test         0.955556           0.955556        0.977778  \n",
       "Accuracy Train      0.961905           0.961905        0.971429  \n",
       "Accuracy Test       0.955556           0.955556        0.977778  \n",
       "F1 macro Train      0.961890           0.961890        0.971364  \n",
       "F1 macro Test       0.955433           0.955433        0.977778  "
      ]
     },
     "execution_count": 88,
     "metadata": {},
     "output_type": "execute_result"
    }
   ],
   "source": [
    "# Updated Evaluation metric Score Chart\n",
    "score"
   ]
  },
  {
   "cell_type": "code",
   "execution_count": null,
   "id": "eced8a66",
   "metadata": {},
   "outputs": [],
   "source": []
  },
  {
   "cell_type": "markdown",
   "id": "2829cac6",
   "metadata": {},
   "source": [
    "#### It appears that hyperparameter tuning improve the performance of the neural network model on the test set. \n",
    "\n",
    "#### The precision, recall, accuracy and F1 scores on the test set are increased for the tuned neural network model compare to untuned neural network model."
   ]
  },
  {
   "cell_type": "code",
   "execution_count": null,
   "id": "29b44613",
   "metadata": {},
   "outputs": [],
   "source": []
  },
  {
   "cell_type": "code",
   "execution_count": 92,
   "id": "8c1aa871",
   "metadata": {},
   "outputs": [
    {
     "name": "stdout",
     "output_type": "stream",
     "text": [
      "|                 |   Logistic regression |   Logistic regression tuned |   Decision Tree |   Random Forest |      SVM |      XGB |   Naive Bayes |   Naive Bayes tuned |   Neural Network |\n",
      "|:----------------|----------------------:|----------------------------:|----------------:|----------------:|---------:|---------:|--------------:|--------------------:|-----------------:|\n",
      "| Precision Train |              0.981929 |                    0.980952 |        1        |        1        | 0.990727 | 1        |      0.962864 |            0.962864 |         0.973571 |\n",
      "| Precision Test  |              0.979365 |                    0.979365 |        0.955556 |        0.955556 | 0.979365 | 0.932794 |      0.961481 |            0.961481 |         0.979365 |\n",
      "| Recall Train    |              0.980952 |                    0.980952 |        1        |        1        | 0.990476 | 1        |      0.961905 |            0.961905 |         0.971429 |\n",
      "| Recall Test     |              0.977778 |                    0.977778 |        0.955556 |        0.955556 | 0.977778 | 0.933333 |      0.955556 |            0.955556 |         0.977778 |\n",
      "| Accuracy Train  |              0.980952 |                    0.980952 |        1        |        1        | 0.990476 | 1        |      0.961905 |            0.961905 |         0.971429 |\n",
      "| Accuracy Test   |              0.977778 |                    0.977778 |        0.955556 |        0.955556 | 0.977778 | 0.933333 |      0.955556 |            0.955556 |         0.977778 |\n",
      "| F1 macro Train  |              0.980931 |                    0.980952 |        1        |        1        | 0.990473 | 1        |      0.96189  |            0.96189  |         0.971364 |\n",
      "| F1 macro Test   |              0.977778 |                    0.977778 |        0.955556 |        0.955556 | 0.977778 | 0.932399 |      0.955433 |            0.955433 |         0.977778 |\n"
     ]
    }
   ],
   "source": [
    "print(score.to_markdown())"
   ]
  },
  {
   "cell_type": "code",
   "execution_count": null,
   "id": "ca44dad4",
   "metadata": {},
   "outputs": [],
   "source": []
  },
  {
   "cell_type": "markdown",
   "id": "c33ed8ae",
   "metadata": {},
   "source": [
    "### Selection of Best Model"
   ]
  },
  {
   "cell_type": "code",
   "execution_count": 93,
   "id": "99417f05",
   "metadata": {},
   "outputs": [
    {
     "data": {
      "text/html": [
       "<div>\n",
       "<style scoped>\n",
       "    .dataframe tbody tr th:only-of-type {\n",
       "        vertical-align: middle;\n",
       "    }\n",
       "\n",
       "    .dataframe tbody tr th {\n",
       "        vertical-align: top;\n",
       "    }\n",
       "\n",
       "    .dataframe thead th {\n",
       "        text-align: right;\n",
       "    }\n",
       "</style>\n",
       "<table border=\"1\" class=\"dataframe\">\n",
       "  <thead>\n",
       "    <tr style=\"text-align: right;\">\n",
       "      <th></th>\n",
       "      <th>Precision Train</th>\n",
       "      <th>Precision Test</th>\n",
       "      <th>Recall Train</th>\n",
       "      <th>Recall Test</th>\n",
       "      <th>Accuracy Train</th>\n",
       "      <th>Accuracy Test</th>\n",
       "      <th>F1 macro Train</th>\n",
       "      <th>F1 macro Test</th>\n",
       "    </tr>\n",
       "  </thead>\n",
       "  <tbody>\n",
       "    <tr>\n",
       "      <th>Naive Bayes</th>\n",
       "      <td>0.962864</td>\n",
       "      <td>0.961481</td>\n",
       "      <td>0.961905</td>\n",
       "      <td>0.955556</td>\n",
       "      <td>0.961905</td>\n",
       "      <td>0.955556</td>\n",
       "      <td>0.961890</td>\n",
       "      <td>0.955433</td>\n",
       "    </tr>\n",
       "    <tr>\n",
       "      <th>Naive Bayes tuned</th>\n",
       "      <td>0.962864</td>\n",
       "      <td>0.961481</td>\n",
       "      <td>0.961905</td>\n",
       "      <td>0.955556</td>\n",
       "      <td>0.961905</td>\n",
       "      <td>0.955556</td>\n",
       "      <td>0.961890</td>\n",
       "      <td>0.955433</td>\n",
       "    </tr>\n",
       "    <tr>\n",
       "      <th>Neural Network</th>\n",
       "      <td>0.973571</td>\n",
       "      <td>0.979365</td>\n",
       "      <td>0.971429</td>\n",
       "      <td>0.977778</td>\n",
       "      <td>0.971429</td>\n",
       "      <td>0.977778</td>\n",
       "      <td>0.971364</td>\n",
       "      <td>0.977778</td>\n",
       "    </tr>\n",
       "  </tbody>\n",
       "</table>\n",
       "</div>"
      ],
      "text/plain": [
       "                   Precision Train  Precision Test  Recall Train  Recall Test  \\\n",
       "Naive Bayes               0.962864        0.961481      0.961905     0.955556   \n",
       "Naive Bayes tuned         0.962864        0.961481      0.961905     0.955556   \n",
       "Neural Network            0.973571        0.979365      0.971429     0.977778   \n",
       "\n",
       "                   Accuracy Train  Accuracy Test  F1 macro Train  \\\n",
       "Naive Bayes              0.961905       0.955556        0.961890   \n",
       "Naive Bayes tuned        0.961905       0.955556        0.961890   \n",
       "Neural Network           0.971429       0.977778        0.971364   \n",
       "\n",
       "                   F1 macro Test  \n",
       "Naive Bayes             0.955433  \n",
       "Naive Bayes tuned       0.955433  \n",
       "Neural Network          0.977778  "
      ]
     },
     "execution_count": 93,
     "metadata": {},
     "output_type": "execute_result"
    }
   ],
   "source": [
    "# Removing the overfitted models which have precision, recall, f1 scores for train as 1\n",
    "score_t = score.transpose()            # taking transpose of the score dataframe to create new difference column\n",
    "remove_models = score_t[score_t['Recall Train']>=0.98].index  # creating a list of models which have 1 for train and score_t['Accuracy Train']==1.0 and score_t['Precision Train']==1.0 and score_t['F1 macro Train']==1.0\n",
    "remove_models\n",
    "\n",
    "adj = score_t.drop(remove_models)                     # creating a new dataframe with required models\n",
    "adj"
   ]
  },
  {
   "cell_type": "code",
   "execution_count": 94,
   "id": "835d2633",
   "metadata": {},
   "outputs": [],
   "source": [
    "def select_best_model(df, metrics):\n",
    "\n",
    "    best_models = {}\n",
    "    for metric in metrics:\n",
    "        max_test = df[metric + ' Test'].max()\n",
    "        best_model_test = df[df[metric + ' Test'] == max_test].index[0]\n",
    "        best_model = best_model_test\n",
    "        best_models[metric] = best_model\n",
    "    return best_models"
   ]
  },
  {
   "cell_type": "code",
   "execution_count": 95,
   "id": "297522e5",
   "metadata": {},
   "outputs": [
    {
     "name": "stdout",
     "output_type": "stream",
     "text": [
      "The best models are:\n",
      "Precision: Neural Network - 0.9794\n",
      "Recall: Neural Network - 0.9778\n",
      "Accuracy: Neural Network - 0.9778\n",
      "F1 macro: Neural Network - 0.9778\n"
     ]
    }
   ],
   "source": [
    "metrics = ['Precision', 'Recall', 'Accuracy', 'F1 macro']\n",
    "\n",
    "best_models = select_best_model(adj, metrics)\n",
    "print(\"The best models are:\")\n",
    "for metric, best_model in best_models.items():\n",
    "    print(f\"{metric}: {best_model} - {adj[metric+' Test'][best_model].round(4)}\")"
   ]
  },
  {
   "cell_type": "code",
   "execution_count": null,
   "id": "ca8ce87e",
   "metadata": {},
   "outputs": [],
   "source": []
  },
  {
   "cell_type": "code",
   "execution_count": 96,
   "id": "d82882a5",
   "metadata": {},
   "outputs": [
    {
     "name": "stdout",
     "output_type": "stream",
     "text": [
      "| Classification Model   |   Recall Train |   Recall Test |\n",
      "|:-----------------------|---------------:|--------------:|\n",
      "| Naive Bayes            |       0.961905 |      0.955556 |\n",
      "| Naive Bayes tuned      |       0.961905 |      0.955556 |\n",
      "| Neural Network         |       0.971429 |      0.977778 |\n"
     ]
    }
   ],
   "source": [
    "# Take recall as the primary evaluation metric\n",
    "score_smpl = score.transpose()\n",
    "remove_overfitting_models = score_smpl[score_smpl['Recall Train']>=0.98].index\n",
    "remove_overfitting_models\n",
    "new_score = score_smpl.drop(remove_overfitting_models)\n",
    "new_score = new_score.drop(['Precision Train','Precision Test','Accuracy Train','Accuracy Test','F1 macro Train','F1 macro Test'], axis=1)\n",
    "new_score.index.name = 'Classification Model'\n",
    "print(new_score.to_markdown())"
   ]
  },
  {
   "cell_type": "code",
   "execution_count": null,
   "id": "0bf9e5c9",
   "metadata": {},
   "outputs": [],
   "source": []
  },
  {
   "cell_type": "code",
   "execution_count": 97,
   "id": "24cae9fd",
   "metadata": {},
   "outputs": [],
   "source": [
    "# Define a list of category labels for reference.\n",
    "Category_RF = ['Iris-Setosa', 'Iris-Versicolor', 'Iris-Virginica']"
   ]
  },
  {
   "cell_type": "code",
   "execution_count": 99,
   "id": "b484b41b",
   "metadata": {},
   "outputs": [
    {
     "name": "stdout",
     "output_type": "stream",
     "text": [
      "Iris-Setosa\n"
     ]
    }
   ],
   "source": [
    "# In this example, it's a data point with Sepal Length, Sepal Width, Petal Length, and Petal Width.\n",
    "x_rf = np.array([[5.1, 3.5, 1.4, 0.2]])\n",
    "\n",
    "# Use the tuned random forest model (rf_model2) to make a prediction.\n",
    "x_rf_prediction = rf_model2.predict(x_rf)\n",
    "x_rf_prediction[0]\n",
    "\n",
    "# Display the predicted category label.\n",
    "print(Category_RF[int(x_rf_prediction[0])])"
   ]
  },
  {
   "cell_type": "code",
   "execution_count": null,
   "id": "6a8e942b",
   "metadata": {},
   "outputs": [],
   "source": []
  },
  {
   "cell_type": "markdown",
   "id": "0d82b9a0",
   "metadata": {},
   "source": [
    "### Conclusion"
   ]
  },
  {
   "cell_type": "markdown",
   "id": "b39d5302",
   "metadata": {},
   "source": [
    "In the Iris flower classification project, the tuned Random Forest model has been selected as the final prediction model. The project aimed to classify Iris flowers into three distinct species: Iris-Setosa, Iris-Versicolor, and Iris-Virginica. After extensive data exploration, preprocessing, and model evaluation, the following conclusions can be drawn:"
   ]
  },
  {
   "cell_type": "markdown",
   "id": "2ad73de7",
   "metadata": {},
   "source": [
    "- Data Exploration:\n",
    "\n",
    "Through a thorough examination of the dataset, we gained insights into the characteristics and distributions of features. We found that Iris-Setosa exhibited distinct features compared to the other two species.\n",
    "\n",
    "- Data Preprocessing:\n",
    "\n",
    "Data preprocessing steps, including handling missing values and encoding categorical variables, were performed to prepare the dataset for modeling.\n",
    "\n",
    "- Model Selection: \n",
    "\n",
    "After experimenting with various machine learning models, tuned Random Forest was chosen as the final model due to its simplicity, interpretability, and good performance in classifying Iris species.\n",
    "\n",
    "- Model Training and Evaluation: \n",
    "\n",
    "The Random Forest (tuned) model was trained on the training dataset and evaluated using appropriate metrics. The model demonstrated satisfactory accuracy and precision in classifying Iris species.\n",
    "\n",
    "- Challenges and Future Work: \n",
    "\n",
    "The project encountered challenges related to feature engineering and model fine-tuning. Future work may involve exploring more advanced modeling techniques to improve classification accuracy further.\n",
    "\n",
    "- Practical Application:\n",
    "\n",
    "The Iris flower classification model can be applied in real-world scenarios, such as botany and horticulture, to automate the identification of Iris species based on physical characteristics."
   ]
  },
  {
   "cell_type": "markdown",
   "id": "2ea7b3f7",
   "metadata": {},
   "source": [
    "- In conclusion,\n",
    "\n",
    "the Iris flower classification project successfully employed Random Forest (tuned) as the final prediction model to classify Iris species.\n",
    "\n",
    "The project's outcomes have practical implications in the field of botany and offer valuable insights into feature importance for species differentiation.\n",
    "\n",
    "Further refinements and enhancements may lead to even more accurate and reliable classification models in the future."
   ]
  },
  {
   "cell_type": "code",
   "execution_count": null,
   "id": "06b96493",
   "metadata": {},
   "outputs": [],
   "source": []
  }
 ],
 "metadata": {
  "kernelspec": {
   "display_name": "Python 3 (ipykernel)",
   "language": "python",
   "name": "python3"
  },
  "language_info": {
   "codemirror_mode": {
    "name": "ipython",
    "version": 3
   },
   "file_extension": ".py",
   "mimetype": "text/x-python",
   "name": "python",
   "nbconvert_exporter": "python",
   "pygments_lexer": "ipython3",
   "version": "3.9.12"
  }
 },
 "nbformat": 4,
 "nbformat_minor": 5
}
